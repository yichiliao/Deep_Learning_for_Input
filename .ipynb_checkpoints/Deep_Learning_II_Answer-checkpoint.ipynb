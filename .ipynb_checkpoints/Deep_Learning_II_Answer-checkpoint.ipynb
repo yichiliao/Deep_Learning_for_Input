{
 "cells": [
  {
   "cell_type": "markdown",
   "metadata": {},
   "source": [
    "# Deep Learning II (Answer)\n",
    "\n",
    "Yi-Chi Liao (yi-chi.liao@aalto.fi) \n",
    "\n",
    "PhD student in User Interfaces group."
   ]
  },
  {
   "cell_type": "markdown",
   "metadata": {},
   "source": [
    "## Outline of the lecture<a id=\"outline\">\n",
    "\n",
    "<div class=\"alert alert-block alert-success\">\n",
    "<ul>\n",
    "        <li>Input Sensing Flow (<a href=\"#0\">Part 0</a>) - 20 mins:\n",
    "            <ul>\n",
    "              <li><a href=\"#01\">Input sensing flow</a></li>\n",
    "              <li><a href=\"#02\">Transducer (transfer function)</a></li>\n",
    "              <li><a href=\"#03\">Signal processor (filter)</a></li>\n",
    "              <li><a href=\"#04\">Recognizer and example (SVM for gesture recognition)</a></li>\n",
    "            </ul>\n",
    "            <br>\n",
    "        <li>CNN, fully connected layers and applications (<a href=\"#1\">Part 1</a>) - 25 mins:\n",
    "            <ul>\n",
    "              <li><a href=\"#11\">Fully connected layers and example (hand gesture recognition)</a></li>\n",
    "              <li><a href=\"#12\">CNN and example (recognizing digits from MNIST dataset)</a></li>\n",
    "              <li><a href=\"#13\">Advanced algorithms: R-CNN and YOLO</a></li>\n",
    "            </ul>\n",
    "            <br>\n",
    "        <li>RNN, LSTM and applications (<a href=\"#2\">Part 2</a>) - 20 mins:\n",
    "            <ul>\n",
    "              <li><a href=\"#21\">From RNN to LSTM</a></li>\n",
    "              <li><a href=\"#22\">LSTM using Keras (text generator using LSTM) - 20 mins: </a></li>\n",
    "            </ul>\n",
    "            <br>\n",
    "        <li>Auto-encoder and its applications (<a href=\"#3\">Part 3</a>) - 20 mins:\n",
    "            <ul>\n",
    "              <li><a href=\"#31\">Overview of autoencoder</a></li>\n",
    "              <li><a href=\"#32\">Example 1: compress MNIST fashion images</a></li>\n",
    "              <li><a href=\"#33\">Example 2: visualize the latent space of MNIST fashion images</a></li>\n",
    "            </ul>\n",
    "            <br>\n",
    "        <li>Advanced topics (if time permits) (<a href=\"#4\">Part 4</a>) - 10 mins:\n",
    "            <ul>\n",
    "              <li><a href=\"#41\">Some examples of DL in HCI</a></li>\n",
    "              <li><a href=\"#42\">Learn faster from previous experiences: Transfer Learning</a></li>\n",
    "              <li><a href=\"#43\">Learning to learn fast: meta-learning</a></li>\n",
    "            </ul>\n",
    "            <br>\n",
    "        <li><a href=\"#summary\">Summary</a>\n",
    "    </ul>\n",
    "</div>\n",
    "    \n",
    "    \n",
    "<div class=\"alert alert-block alert-success\">\n",
    "<h2><img src=\"images/goal.png\" width=20, align=\"left\">&nbsp;Learning objectives of this lecture</h2>\n",
    "    <ul>\n",
    "    <li>Part 0 Sensing flow:\n",
    "    <ul>\n",
    "        <li>know transfer function and filters (exercise 1)\n",
    "    </ul>\n",
    "    <li>Part 1 CNN and fully connected layers:\n",
    "    <ul>\n",
    "        <li>build a model using CNN & fully connected layers (exercise 2)\n",
    "    </ul>\n",
    "    <li>Part 2 RNN and LSTM:\n",
    "    <ul>\n",
    "        <li>build a model using LSTM (exercise 3)\n",
    "    </ul>\n",
    "    <li>Part 3 Autoencoder:\n",
    "    <ul>\n",
    "        <li>apply autoencoder for various purposes (exercise 4, 5) \n",
    "    </ul>\n",
    "    <li>Part 4 Advanced topics:\n",
    "    <ul>\n",
    "        <li>have basic idea about transfer learning and meta-learning (optional advanced exercise)\n",
    "    </ul>\n",
    "</div>\n"
   ]
  },
  {
   "cell_type": "code",
   "execution_count": 1,
   "metadata": {},
   "outputs": [
    {
     "name": "stdout",
     "output_type": "stream",
     "text": [
      "2.2.0\n"
     ]
    }
   ],
   "source": [
    "import tensorflow as tf\n",
    "print(tf.__version__)\n",
    "import numpy as np\n",
    "import matplotlib.pyplot as plt\n",
    "from sklearn.model_selection import train_test_split\n",
    "from sklearn.pipeline import make_pipeline\n",
    "from sklearn.preprocessing import StandardScaler\n",
    "from sklearn.svm import SVC\n",
    "from sklearn.metrics import accuracy_score\n",
    "from sklearn.metrics import classification_report\n",
    "from sklearn.metrics import confusion_matrix\n",
    "from sklearn.preprocessing import PolynomialFeatures\n",
    "from sklearn.linear_model import LinearRegression\n",
    "from sklearn.metrics import mean_squared_error, r2_score\n",
    "from scipy.interpolate import interp1d\n",
    "import pandas as pd\n",
    "import random\n",
    "import math\n",
    "import glob\n",
    "import csv\n",
    "import pickle\n",
    "import heapq\n",
    "import matplotlib as mpl\n",
    "\n",
    "from IPython.display import Image\n",
    "from IPython.display import HTML"
   ]
  },
  {
   "cell_type": "markdown",
   "metadata": {},
   "source": [
    "# Part 0: Input sensing flow<a id=\"0\">"
   ]
  },
  {
   "cell_type": "markdown",
   "metadata": {},
   "source": [
    "<div class=\"alert alert-block alert-success\">\n",
    "<h2><img src=\"images/goal.png\" width=20, align=\"left\">&nbsp;Learning objectives of part 0</h2>\n",
    "    <br>Learn to:\n",
    "    <ul>\n",
    "        <li>know the basic working principles of the sensors\n",
    "        <li>understand the major components in the sensing pipeline, including transducer, signal processor, and recognizer\n",
    "    </ul>\n",
    "</div>\n"
   ]
  },
  {
   "cell_type": "markdown",
   "metadata": {},
   "source": [
    "### Discussion: describe what happens from you move your mouse to the cursor moves on the screen? (2 mins)\n",
    "\n",
    "<img src=\"images/mouse.jpg\" width=300>"
   ]
  },
  {
   "cell_type": "markdown",
   "metadata": {},
   "source": [
    "## 0.1 Overview of input sensing flow<a id=\"01\">"
   ]
  },
  {
   "cell_type": "markdown",
   "metadata": {},
   "source": [
    "---\n",
    "### Overview of the pipeline\n",
    "<img src=\"images/sensing-flow.png\"  width=600>"
   ]
  },
  {
   "cell_type": "markdown",
   "metadata": {},
   "source": [
    "---\n",
    "### Mouse as an example\n",
    "<img src=\"images/mouse-sensing.png\"  width=600>"
   ]
  },
  {
   "cell_type": "markdown",
   "metadata": {},
   "source": [
    "## 0.2 Transducer (digital sensor) <a id=\"02\">"
   ]
  },
  {
   "cell_type": "markdown",
   "metadata": {},
   "source": [
    "### Definition:\n",
    "a device, module, or subsystem whose purpose is to detect events or changes in its environment and send the nformation to other electronics.\n",
    "\n",
    "<img src=\"images/transducer.png\" width=500>\n",
    "\n",
    "- Physical phenomena: mechanical, electrical, sonic, optical, radiation, magnetic, gravitational, …\n",
    "- Electric property: voltage, resistance, capacitance, inductance\n",
    "- Transfer function: output = f (input)\n",
    "\n",
    "### Transfer function\n",
    "a mathematical function which theoretically models the device's output for each possible input.\n",
    "- Digital transfer function: having two-state output values (on/off)\n",
    "- Analog transfer function: having continuous ouput values\n",
    "\n",
    "### Identify what are the digital sensors and analog sensors on this PS control\n",
    "\n",
    "<img src=\"images/controller.png\"  width=600>\n",
    "\n",
    "---\n",
    "\n",
    "### Calibration: identify the transfer function from data\n",
    "\n",
    "1. Collect a set of <ground truth, sensor value> data \n",
    "2. Fit the model: linear regression or polynomial regression\n",
    "\n",
    "#### Example: a depth-sensing button using hall sensor (sensing magnetic field) \n",
    "\n",
    "<img src=\"images/transferf.png\"  width=600>"
   ]
  },
  {
   "cell_type": "code",
   "execution_count": 51,
   "metadata": {},
   "outputs": [
    {
     "data": {
      "image/png": "[encoded data removed]",
      "text/plain": [
       "<Figure size 432x288 with 1 Axes>"
      ]
     },
     "metadata": {
      "needs_background": "light"
     },
     "output_type": "display_data"
    }
   ],
   "source": [
    "'''\n",
    "# Psudo measurements are derived from the following code:\n",
    "actual_distance = [0, 0.5, 1, 1.5, 2, 2.5, 3, 3.5, 4] \n",
    "sensor_values = []\n",
    "a = 200\n",
    "b = 170\n",
    "for i in actual_distance:\n",
    "    sensor_values.append(round(i* a + b +np.random.normal(0, 12),3))\n",
    "print (sensor_values)\n",
    "'''\n",
    "\n",
    "actual_distance = [0, 0.5, 1, 1.5, 2, 2.5, 3, 3.5, 4]  # Ground truth: denote as Y for regression\n",
    "sensor_values =   [169.975, 269.01, 367.097, 470.826, 587.075, 674.498, 758.666, 876.317, 970.015]\n",
    " # sensor value: denote as X for regression\n",
    "\n",
    "plt.plot(sensor_values, actual_distance, 'ro', label='measure')\n",
    "plt.xlabel('sensor value')\n",
    "plt.ylabel('actual distance (mm)')\n",
    "plt.legend()\n",
    "plt.show()"
   ]
  },
  {
   "cell_type": "markdown",
   "metadata": {},
   "source": [
    "### Question: what is the the relation between the actual distance and the sensor value?"
   ]
  },
  {
   "cell_type": "code",
   "execution_count": 4,
   "metadata": {},
   "outputs": [
    {
     "name": "stdout",
     "output_type": "stream",
     "text": [
      "slope:  0.004988715988397399\n",
      "intercept:  -0.851039547031808\n"
     ]
    },
    {
     "data": {
      "image/png": "[encoded data removed]",
      "text/plain": [
       "<Figure size 432x288 with 1 Axes>"
      ]
     },
     "metadata": {
      "needs_background": "light"
     },
     "output_type": "display_data"
    }
   ],
   "source": [
    "slope, intercept = np.polyfit(sensor_values, actual_distance, 1) # Perform linear regression\n",
    "print ('slope: ', slope)\n",
    "print ('intercept: ', intercept)\n",
    "\n",
    "abline_values = [slope * i + intercept for i in sensor_values]\n",
    "plt.plot(sensor_values, actual_distance, 'ro', label='measure')\n",
    "plt.plot(sensor_values, abline_values, 'b', label='linear fit')\n",
    "plt.xlabel('sensor value')\n",
    "plt.ylabel('actual distance (mm)')\n",
    "plt.legend()\n",
    "plt.show()"
   ]
  },
  {
   "cell_type": "markdown",
   "metadata": {},
   "source": [
    "### Question: what is the actual distance if the sensor value is 875?"
   ]
  },
  {
   "cell_type": "code",
   "execution_count": 5,
   "metadata": {},
   "outputs": [
    {
     "name": "stdout",
     "output_type": "stream",
     "text": [
      "3.5140869428159163\n"
     ]
    }
   ],
   "source": [
    "## TODO: \n",
    "new_sensor_value = 875\n",
    "estimate_distance =  slope * new_sensor_value + intercept  \n",
    "print (estimate_distance)"
   ]
  },
  {
   "cell_type": "markdown",
   "metadata": {},
   "source": [
    "### Another sensor, different set of data"
   ]
  },
  {
   "cell_type": "code",
   "execution_count": 6,
   "metadata": {},
   "outputs": [
    {
     "data": {
      "image/png": "[encoded data removed]",
      "text/plain": [
       "<Figure size 432x288 with 1 Axes>"
      ]
     },
     "metadata": {
      "needs_background": "light"
     },
     "output_type": "display_data"
    }
   ],
   "source": [
    "'''\n",
    "# Psudo measurements are derived from the following code:\n",
    "actual_distance = [0, 0.5, 1, 1.5, 2, 2.5, 3, 3.5, 4] \n",
    "sensor_values = []\n",
    "a = 12.1645\n",
    "b = 4.0087\n",
    "c = 594.6\n",
    "for i in actual_distance:\n",
    "    sensor_values.append(round(i*i* a + i*b + c +np.random.normal(0, 3),1))\n",
    "print (sensor_values)\n",
    "'''\n",
    "\n",
    "actual_distance = [0, 0.5, 1, 1.5, 2, 2.5, 3, 3.5, 4] \n",
    "sensor_values = [595.3, 596.6, 611.5, 634.0, 650.2, 677.4, 719.0, 758.5, 804.5]\n",
    "\n",
    "coe_1 = -0.00006811\n",
    "coe_2 = 0.11226564\n",
    "coe_3 = -42.34817544\n",
    "\n",
    "plt.plot(sensor_values, actual_distance, 'ro', label='measure')\n",
    "plt.xlabel('sensor value')\n",
    "plt.ylabel('actual distance (mm)')\n",
    "plt.legend()\n",
    "plt.show()"
   ]
  },
  {
   "cell_type": "markdown",
   "metadata": {},
   "source": [
    "### Question: what is the the relation between the actual distance and the sensor value?"
   ]
  },
  {
   "cell_type": "code",
   "execution_count": 7,
   "metadata": {},
   "outputs": [
    {
     "data": {
      "image/png": "[encoded data removed]",
      "text/plain": [
       "<Figure size 432x288 with 1 Axes>"
      ]
     },
     "metadata": {
      "needs_background": "light"
     },
     "output_type": "display_data"
    }
   ],
   "source": [
    "coe_1 = -0.00006811\n",
    "coe_2 = 0.11226564\n",
    "coe_3 = -42.34817544\n",
    "\n",
    "abline_values = [coe_1 * i*i + coe_2 *i + coe_3 for i in sensor_values]\n",
    "plt.plot(sensor_values, actual_distance, 'ro', label='measure')\n",
    "plt.plot(sensor_values, abline_values, 'b', label='polynomial fit, d=2')\n",
    "plt.xlabel('sensor value')\n",
    "plt.ylabel('actual distance')\n",
    "plt.legend()\n",
    "plt.show()"
   ]
  },
  {
   "cell_type": "markdown",
   "metadata": {},
   "source": [
    "### Question: what is the actual distance if the sensor value is 750?"
   ]
  },
  {
   "cell_type": "code",
   "execution_count": 8,
   "metadata": {},
   "outputs": [
    {
     "name": "stdout",
     "output_type": "stream",
     "text": [
      "3.539179560000008\n"
     ]
    }
   ],
   "source": [
    "## TODO: \n",
    "new_sensor_value = 750\n",
    "estimate_distance =  coe_1 * new_sensor_value*new_sensor_value + coe_2 *new_sensor_value + coe_3  \n",
    "print (estimate_distance)"
   ]
  },
  {
   "cell_type": "markdown",
   "metadata": {},
   "source": [
    "**One of the task in the assignment will require you to find the transfer function.**"
   ]
  },
  {
   "cell_type": "markdown",
   "metadata": {},
   "source": [
    "## 0.3 Signal processor  <a id=\"03\">"
   ]
  },
  {
   "cell_type": "markdown",
   "metadata": {},
   "source": [
    "### Noise: An unwanted disturbance (or fluctuation) in an electronic signal\n",
    "<img src=\"images/noise.png\" width=400>\n",
    "\n",
    "If your situation is precise but not accurate, you need to **re-calibrate (re-learn the transfer function)** your sensor.\n",
    "\n",
    "If your situation is accurate but not presice, you need to remove the noise in your measurements."
   ]
  },
  {
   "cell_type": "code",
   "execution_count": 9,
   "metadata": {},
   "outputs": [
    {
     "data": {
      "image/png": "[encoded data removed]",
      "text/plain": [
       "<Figure size 1440x576 with 1 Axes>"
      ]
     },
     "metadata": {
      "needs_background": "light"
     },
     "output_type": "display_data"
    }
   ],
   "source": [
    "# Reading the file\n",
    "df = pd.read_csv('files/Noise.csv', header=None)\n",
    "timestamps = df[0].tolist()\n",
    "signal = df[1].tolist()\n",
    "\n",
    "plt.figure(figsize=(20,8))\n",
    "plt.plot(timestamps[0:200], signal[0:200], 'b-', label=\"original\")\n",
    "plt.legend(fontsize='large')\n",
    "plt.show()"
   ]
  },
  {
   "cell_type": "markdown",
   "metadata": {},
   "source": [
    "### Moving average filter\n",
    "\n",
    "<img src=\"images/moving_average.png\" width=600>"
   ]
  },
  {
   "cell_type": "code",
   "execution_count": 10,
   "metadata": {},
   "outputs": [],
   "source": [
    "def moving_average(x, w):\n",
    "    # w is the window size\n",
    "    return np.convolve(x, np.ones(w), 'full') / w"
   ]
  },
  {
   "cell_type": "code",
   "execution_count": 11,
   "metadata": {},
   "outputs": [
    {
     "data": {
      "image/png": "[encoded data removed]",
      "text/plain": [
       "<Figure size 1440x576 with 1 Axes>"
      ]
     },
     "metadata": {
      "needs_background": "light"
     },
     "output_type": "display_data"
    }
   ],
   "source": [
    "ma_signal = moving_average(signal, 2)  # Window size set to 2\n",
    "\n",
    "plt.figure(figsize=(20,8))\n",
    "plt.plot(timestamps[0:200], signal[0:200], 'b-', label=\"original\")\n",
    "plt.plot(timestamps[0:200], ma_signal[0:200], 'r-', label=\"m_a_filtered\")\n",
    "plt.legend(fontsize='large')\n",
    "plt.show()\n",
    "\n",
    "# TODO: change the window size to 3, 5, and 10 and observe the differences"
   ]
  },
  {
   "cell_type": "markdown",
   "metadata": {},
   "source": [
    "### Question: what will happen when you increase the window size?"
   ]
  },
  {
   "cell_type": "markdown",
   "metadata": {},
   "source": [
    "###  1€ Filter: A Simple Speed-based Low-pass Filter\n",
    "\n",
    "<img src=\"images/1euro.png\" width=500>\n",
    "\n",
    "**Try online demo [here](http://cristal.univ-lille.fr/~casiez/1euro/InteractiveDemo/).**"
   ]
  },
  {
   "cell_type": "code",
   "execution_count": 12,
   "metadata": {},
   "outputs": [],
   "source": [
    "# Implementation of One Euro Filter, no need to do anything here\n",
    "class LowPassFilter(object):\n",
    "\n",
    "    def __init__(self, alpha):\n",
    "        self.__setAlpha(alpha)\n",
    "        self.__y = self.__s = None\n",
    "\n",
    "    def __setAlpha(self, alpha):\n",
    "        alpha = float(alpha)\n",
    "        if alpha<=0 or alpha>1.0:\n",
    "            raise ValueError(\"alpha (%s) should be in (0.0, 1.0]\"%alpha)\n",
    "        self.__alpha = alpha\n",
    "\n",
    "    def __call__(self, value, timestamp=None, alpha=None):        \n",
    "        if alpha is not None:\n",
    "            self.__setAlpha(alpha)\n",
    "        if self.__y is None:\n",
    "            s = value\n",
    "        else:\n",
    "            s = self.__alpha*value + (1.0-self.__alpha)*self.__s\n",
    "        self.__y = value\n",
    "        self.__s = s\n",
    "        return s\n",
    "\n",
    "    def lastValue(self):\n",
    "        return self.__y\n",
    "\n",
    "# ----------------------------------------------------------------------------\n",
    "\n",
    "class OneEuroFilter(object):\n",
    "\n",
    "    def __init__(self, freq, mincutoff=1.0, beta=0.0, dcutoff=1.0):\n",
    "        if freq<=0:\n",
    "            raise ValueError(\"freq should be >0\")\n",
    "        if mincutoff<=0:\n",
    "            raise ValueError(\"mincutoff should be >0\")\n",
    "        if dcutoff<=0:\n",
    "            raise ValueError(\"dcutoff should be >0\")\n",
    "        self.__freq = float(freq)\n",
    "        self.__mincutoff = float(mincutoff)\n",
    "        self.__beta = float(beta)\n",
    "        self.__dcutoff = float(dcutoff)\n",
    "        self.__x = LowPassFilter(self.__alpha(self.__mincutoff))\n",
    "        self.__dx = LowPassFilter(self.__alpha(self.__dcutoff))\n",
    "        self.__lasttime = None\n",
    "        \n",
    "    def __alpha(self, cutoff):\n",
    "        te    = 1.0 / self.__freq\n",
    "        tau   = 1.0 / (2*math.pi*cutoff)\n",
    "        return  1.0 / (1.0 + tau/te)\n",
    "\n",
    "    def __call__(self, x, timestamp=None):\n",
    "        # ---- update the sampling frequency based on timestamps\n",
    "        if self.__lasttime and timestamp:\n",
    "            self.__freq = 1.0 / (timestamp-self.__lasttime)\n",
    "        self.__lasttime = timestamp\n",
    "        # ---- estimate the current variation per second\n",
    "        prev_x = self.__x.lastValue()\n",
    "        dx = 0.0 if prev_x is None else (x-prev_x)*self.__freq # FIXME: 0.0 or value?\n",
    "        edx = self.__dx(dx, timestamp, alpha=self.__alpha(self.__dcutoff))\n",
    "        # ---- use it to update the cutoff frequency\n",
    "        cutoff = self.__mincutoff + self.__beta*math.fabs(edx)\n",
    "        # ---- filter the given value\n",
    "        return self.__x(x, timestamp, alpha=self.__alpha(cutoff))"
   ]
  },
  {
   "cell_type": "code",
   "execution_count": 13,
   "metadata": {},
   "outputs": [
    {
     "data": {
      "image/png": "[encoded data removed]",
      "text/plain": [
       "<Figure size 1440x576 with 1 Axes>"
      ]
     },
     "metadata": {
      "needs_background": "light"
     },
     "output_type": "display_data"
    }
   ],
   "source": [
    "# Tuning the values of mincutoff and beta only.\n",
    "\n",
    "init_frequency = (timestamps[-1] - timestamps[0])/len(timestamps)\n",
    "config = {\n",
    "'freq': init_frequency, # This value is correct, no need to change it!\n",
    "'mincutoff': 0.1,       # TODO: FIX ME\n",
    "'beta': 0.01,           # TODO: FIX ME\n",
    "'dcutoff': 1.0          # This value is already fine, no need to change it!\n",
    "}\n",
    "\n",
    "one_e_filter = OneEuroFilter(**config)\n",
    "\n",
    "# Filtering the data and store them into f_list\n",
    "one_e_list = []\n",
    "for i in range(len(timestamps)):\n",
    "    f = one_e_filter(signal[i], timestamps[i])\n",
    "    one_e_list.append(f)\n",
    "    \n",
    "# Plotting the first 200 points \n",
    "plt.figure(figsize=(20,8))\n",
    "plt.plot(timestamps[0:200], signal[0:200], 'b-', label=\"original\")\n",
    "plt.plot(timestamps[0:200], one_e_list[0:200], 'r-', label=\"1e filtered\")\n",
    "plt.legend(fontsize='large')\n",
    "plt.show()"
   ]
  },
  {
   "cell_type": "markdown",
   "metadata": {},
   "source": [
    "## 0.4 Recognizer <a id=\"04\">"
   ]
  },
  {
   "cell_type": "markdown",
   "metadata": {},
   "source": [
    "### A typical machine-learning-based recognition flow:\n",
    "\n",
    "<img src=\"images/ml-recognizer.png\"  width=700>"
   ]
  },
  {
   "cell_type": "markdown",
   "metadata": {},
   "source": [
    "### Example: Hand gesture recognition with leap motion and kinect devices \n",
    "Paper: https://lttm.dei.unipd.it//nuovo/Papers/14_ICIP_leap.pdf (citation: 384)\n",
    "\n",
    "Dataset download: https://lttm.dei.unipd.it//downloads/gesture/\n",
    "\n",
    "### Method\n",
    "<img src=\"images/ml-pipeline.png\" width=600>\n",
    "\n",
    "### Dataset\n",
    "<img src=\"images/dataset.png\" width=600>\n",
    "<img src=\"images/original-data.png\" width=600>\n",
    "\n",
    "Since we only use it as a quick example, let's just use one part of the features used in the paper; specifically, let's only take the finger distances for training.\n",
    "\n",
    "### Step 1 & 2: read sensor data and engineer the features (only finger distances)"
   ]
  },
  {
   "cell_type": "code",
   "execution_count": 14,
   "metadata": {},
   "outputs": [],
   "source": [
    "def distance(list1, list2):\n",
    "    \"\"\"Distance between two vectors.\"\"\"\n",
    "    squares = [(p-q) ** 2 for p, q in zip(list1, list2)]\n",
    "    return sum(squares) ** .5\n",
    "\n",
    "all_p_data = glob.glob(\"files/Gesture_set/*\")\n",
    "x_all = []\n",
    "y_all = []\n",
    "\n",
    "for i in all_p_data:\n",
    "    all_folders = glob.glob(i+\"/*\")\n",
    "    for j in all_folders:\n",
    "        files = glob.glob(j+\"/*\")\n",
    "        for k in files:\n",
    "            ## appending the label\n",
    "            if ('G5' in k):\n",
    "                y_all.append(5)\n",
    "            else:\n",
    "                y_all.append(4)\n",
    "                \n",
    "            ## Start reading file\n",
    "            \n",
    "            this_fingertip_positions = []\n",
    "            this_palm_position = []\n",
    "            with open(k, newline='') as csvfile:\n",
    "                for row in csvfile:\n",
    "                    row = row.split(',')\n",
    "                    if (row[0] == 'FingertipsPositions'):\n",
    "                        for l in row[1:]:\n",
    "                            this_fingertip_positions.append(float(l))\n",
    "                    if (row[0] == 'PalmPositionRefined'):\n",
    "                        for l in row[1:]:\n",
    "                            this_palm_position.append(float(l))\n",
    "            \n",
    "            ## Feature engineering (I only take finger-to-palm distances into account)\n",
    "            distances = [distance(this_fingertip_positions[0:3],this_palm_position),\n",
    "                        distance(this_fingertip_positions[3:6],this_palm_position),\n",
    "                        distance(this_fingertip_positions[6:9],this_palm_position),\n",
    "                        distance(this_fingertip_positions[9:12],this_palm_position),\n",
    "                        distance(this_fingertip_positions[12:15],this_palm_position)]\n",
    "\n",
    "            middle_finger = distances[2]\n",
    "            n_distances = [x / middle_finger for x in distances]\n",
    "            x_all.append(n_distances)\n",
    "            \n",
    "x_all = np.array(x_all)\n",
    "y_all = np.array(y_all)"
   ]
  },
  {
   "cell_type": "markdown",
   "metadata": {},
   "source": [
    "### Step 3: Check the data and split them into training and testing datasets\n",
    "\n",
    "- **Training Dataset:** The sample of data used to fit the model.\n",
    "- **Test Dataset:** The sample of data used to provide an unbiased evaluation of a final model fit on the training dataset.\n"
   ]
  },
  {
   "cell_type": "code",
   "execution_count": 18,
   "metadata": {},
   "outputs": [
    {
     "name": "stdout",
     "output_type": "stream",
     "text": [
      "[[0.77076936 0.73414542 1.         0.32848204 0.95355073]\n",
      " [0.74424402 0.52561553 1.         0.25952359 0.6872275 ]\n",
      " [0.69420908 0.55709541 1.         0.2197127  0.69689249]\n",
      " ...\n",
      " [0.92329661 0.74011952 1.         0.37112514 0.83460949]\n",
      " [0.7652666  0.62670634 1.         0.32972713 0.71309824]\n",
      " [0.72014481 0.79489996 1.         0.23640176 0.93945525]]\n",
      "[5 5 5 5 5 5 5 5 5 5 4 4 4 4 4 4 4 4 4 4 5 5 5 5 5 5 5 5 5 5 4 4 4 4 4 4 4\n",
      " 4 4 4 5 5 5 5 5 5 5 5 5 5 4 4 4 4 4 4 4 4 4 4 5 5 5 5 5 5 5 5 5 5 4 4 4 4\n",
      " 4 4 4 4 4 4 5 5 5 5 5 5 5 5 5 5 4 4 4 4 4 4 4 4 4 4 5 5 5 5 5 5 5 5 5 5 4\n",
      " 4 4 4 4 4 4 4 4 4 5 5 5 5 5 5 5 5 5 5 4 4 4 4 4 4 4 4 4 4 5 5 5 5 5 5 5 5\n",
      " 5 5 4 4 4 4 4 4 4 4 4 4 5 5 5 5 5 5 5 5 5 5 4 4 4 4 4 4 4 4 4 4 5 5 5 5 5\n",
      " 5 5 5 5 5 4 4 4 4 4 4 4 4 4 4 5 5 5 5 5 5 5 5 5 5 4 4 4 4 4 4 4 4 4 4 5 5\n",
      " 5 5 5 5 5 5 5 5 4 4 4 4 4 4 4 4 4 4 5 5 5 5 5 5 5 5 5 5 4 4 4 4 4 4 4 4 4\n",
      " 4 5 5 5 5 5 5 5 5 5 5 4 4 4 4 4 4 4 4 4 4]\n"
     ]
    }
   ],
   "source": [
    "print (x_all)\n",
    "print (y_all)\n",
    "\n",
    "X_train_hand, X_test_hand, y_train_hand, y_test_hand = train_test_split(x_all, y_all, test_size=0.2, random_state=42)"
   ]
  },
  {
   "cell_type": "markdown",
   "metadata": {},
   "source": [
    "### Step 4: train with a SVM classifier\n",
    "\n",
    "A support vector machine (SVM) is a **supervised** machine learning model that handles two-group classification problems. An SVM model needs a set of labeled training data for learning.\n",
    "\n",
    "**Discussion:** What is supervised learning?\n",
    "\n",
    "<img src=\"images/svm.png\">\n",
    "\n",
    "Note: there are [other classifiers](https://medium.com/@jorgesleonel/classification-methods-in-machine-learning-58ce63173db8) but we won't cover here."
   ]
  },
  {
   "cell_type": "code",
   "execution_count": 19,
   "metadata": {},
   "outputs": [
    {
     "data": {
      "text/plain": [
       "Pipeline(steps=[('standardscaler', StandardScaler()),\n",
       "                ('svc', SVC(gamma='auto'))])"
      ]
     },
     "execution_count": 19,
     "metadata": {},
     "output_type": "execute_result"
    }
   ],
   "source": [
    "clf = make_pipeline(StandardScaler(), SVC(gamma='auto'))\n",
    "clf.fit(X_train_hand, y_train_hand)"
   ]
  },
  {
   "cell_type": "markdown",
   "metadata": {},
   "source": [
    "### Step 5: evaluate with the testing dataset"
   ]
  },
  {
   "cell_type": "code",
   "execution_count": 20,
   "metadata": {
    "scrolled": true
   },
   "outputs": [
    {
     "name": "stdout",
     "output_type": "stream",
     "text": [
      "accuracy =  0.6607142857142857\n",
      "classification report: \n",
      "              precision    recall  f1-score   support\n",
      "\n",
      "           4       0.61      0.68      0.64        25\n",
      "           5       0.71      0.65      0.68        31\n",
      "\n",
      "    accuracy                           0.66        56\n",
      "   macro avg       0.66      0.66      0.66        56\n",
      "weighted avg       0.67      0.66      0.66        56\n",
      "\n",
      "confusion matrix: \n",
      "[[17  8]\n",
      " [11 20]]\n"
     ]
    }
   ],
   "source": [
    "y_pred = clf.predict(X_test_hand)\n",
    "print ('accuracy = ', accuracy_score(y_test_hand, y_pred))\n",
    "print ('classification report: ')\n",
    "print (classification_report(y_test_hand, y_pred))\n",
    "print ('confusion matrix: ')\n",
    "print (confusion_matrix(y_test_hand, y_pred))"
   ]
  },
  {
   "cell_type": "markdown",
   "metadata": {},
   "source": [
    "### Limitation of ML-based recognizer\n",
    "\n",
    "- Feature engineering needs a lot of effort! If you don't do it well, the redundant features will worsen the results.\n",
    "- Feature engineering requires specific knowledge of the domain.\n",
    "- Feature engineering takes too many human decisions so it introduces biases, too!\n",
    "- Traditional ML is hard to be scaled up for high-dimensional input (e.g., images, videos, voice).\n",
    "\n",
    "**Optional reading: [Principal Component Analysis (PCA)](https://towardsdatascience.com/principal-component-analysis-for-dimensionality-reduction-115a3d157bad) is a common approach to reduce the dimensionality of the input space.**\n",
    "\n",
    "<a href=\"#outline\">Back to top!</a></li>"
   ]
  },
  {
   "cell_type": "markdown",
   "metadata": {},
   "source": [
    "# Part 1: CNN, fully connected layers and their application<a id=\"1\">"
   ]
  },
  {
   "cell_type": "markdown",
   "metadata": {},
   "source": [
    "<div class=\"alert alert-block alert-success\">\n",
    "<h2><img src=\"images/goal.png\" width=20, align=\"left\">&nbsp;Learning objectives of part 1</h2>\n",
    "    <br>Learn to:\n",
    "    <ul>\n",
    "        <li>build a model using CNN & fully connected layers\n",
    "        <li>tune the model to achieve reliable detection\n",
    "        <li>have basic understanding of the state-of-the-art object detection algorithms\n",
    "    </ul>\n",
    "</div>"
   ]
  },
  {
   "cell_type": "markdown",
   "metadata": {},
   "source": [
    "## 1.1 Fully connected layers<a id=\"11\">\n"
   ]
  },
  {
   "cell_type": "code",
   "execution_count": 50,
   "metadata": {},
   "outputs": [
    {
     "data": {
      "text/html": [
       "<iframe width=\"560\" height=\"315\" src=\"https://www.youtube.com/embed/aircAruvnKk\" frameborder=\"0\" allow=\"accelerometer; autoplay; clipboard-write; encrypted-media; gyroscope; picture-in-picture\" allowfullscreen></iframe>"
      ],
      "text/plain": [
       "<IPython.core.display.HTML object>"
      ]
     },
     "execution_count": 50,
     "metadata": {},
     "output_type": "execute_result"
    }
   ],
   "source": [
    "HTML('<iframe width=\"560\" height=\"315\" src=\"https://www.youtube.com/embed/aircAruvnKk\" frameborder=\"0\" allow=\"accelerometer; autoplay; clipboard-write; encrypted-media; gyroscope; picture-in-picture\" allowfullscreen></iframe>')"
   ]
  },
  {
   "cell_type": "markdown",
   "metadata": {},
   "source": [
    "### Fully connected layers\n",
    "\n",
    "<img src=\"images/dense-layer.png\">"
   ]
  },
  {
   "cell_type": "markdown",
   "metadata": {},
   "source": [
    "### Step 1: Data preparation\n",
    "\n",
    "Let's take the same dataset (paper: [Hand gesture recognition with leap motion and kinect devices](https://lttm.dei.unipd.it//nuovo/Papers/14_ICIP_leap.pdf)), but use with fully connected layers model.\n",
    "\n",
    "Dataset download: https://lttm.dei.unipd.it//downloads/gesture/\n",
    "\n",
    "### Dataset\n",
    "<img src=\"images/original-data.png\" width=600>\n"
   ]
  },
  {
   "cell_type": "code",
   "execution_count": 21,
   "metadata": {},
   "outputs": [],
   "source": [
    "all_p_data = glob.glob(\"files/Gesture_set/*\")\n",
    "x_all = []\n",
    "y_all = []\n",
    "\n",
    "for i in all_p_data:\n",
    "    all_folders = glob.glob(i+\"/*\")\n",
    "    for j in all_folders:\n",
    "        files = glob.glob(j+\"/*\")\n",
    "        for k in files:\n",
    "            ## appending the label\n",
    "            if ('G5' in k):\n",
    "                y_all.append(1)\n",
    "            else:\n",
    "                y_all.append(0)\n",
    "                \n",
    "            ## Start reading file\n",
    "            ## Just appending everything into the input space (X)\n",
    "            this_x = []\n",
    "            with open(k, newline='') as csvfile:\n",
    "                for row in csvfile:\n",
    "                    row = row.split(',')\n",
    "                    for l in row[1:]:\n",
    "                        this_x.append(float(l))\n",
    "            x_all.append(this_x)\n",
    "            \n",
    "x_all = np.array(x_all)\n",
    "y_all = np.array(y_all)"
   ]
  },
  {
   "cell_type": "markdown",
   "metadata": {},
   "source": [
    "### Step 2: Check the data and split them into training and testing datasets"
   ]
  },
  {
   "cell_type": "code",
   "execution_count": 22,
   "metadata": {},
   "outputs": [
    {
     "name": "stdout",
     "output_type": "stream",
     "text": [
      "[[  3.       103.69     105.857    ...  10.2734     1.44337    0.506716]\n",
      " [  2.       104.819    107.022    ... -49.3036   119.76       0.999901]\n",
      " [  2.       105.742    107.527    ...  28.5469    15.4301     0.988917]\n",
      " ...\n",
      " [  3.        89.8732   113.014    ...  18.2536    -1.18371    0.49824 ]\n",
      " [  2.        86.783    113.38     ...  40.2265   -10.1767     0.787761]\n",
      " [  3.        85.0574   110.245    ...  13.5174    53.7186     0.976245]]\n",
      "[1 1 1 1 1 1 1 1 1 1 0 0 0 0 0 0 0 0 0 0 1 1 1 1 1 1 1 1 1 1 0 0 0 0 0 0 0\n",
      " 0 0 0 1 1 1 1 1 1 1 1 1 1 0 0 0 0 0 0 0 0 0 0 1 1 1 1 1 1 1 1 1 1 0 0 0 0\n",
      " 0 0 0 0 0 0 1 1 1 1 1 1 1 1 1 1 0 0 0 0 0 0 0 0 0 0 1 1 1 1 1 1 1 1 1 1 0\n",
      " 0 0 0 0 0 0 0 0 0 1 1 1 1 1 1 1 1 1 1 0 0 0 0 0 0 0 0 0 0 1 1 1 1 1 1 1 1\n",
      " 1 1 0 0 0 0 0 0 0 0 0 0 1 1 1 1 1 1 1 1 1 1 0 0 0 0 0 0 0 0 0 0 1 1 1 1 1\n",
      " 1 1 1 1 1 0 0 0 0 0 0 0 0 0 0 1 1 1 1 1 1 1 1 1 1 0 0 0 0 0 0 0 0 0 0 1 1\n",
      " 1 1 1 1 1 1 1 1 0 0 0 0 0 0 0 0 0 0 1 1 1 1 1 1 1 1 1 1 0 0 0 0 0 0 0 0 0\n",
      " 0 1 1 1 1 1 1 1 1 1 1 0 0 0 0 0 0 0 0 0 0]\n",
      "(224, 5)\n"
     ]
    }
   ],
   "source": [
    "print (x_all)\n",
    "print (y_all)\n",
    "\n",
    "X_train_hand2, X_test_hand2, y_train_hand2, y_test_hand2 = train_test_split(x_all, y_all, test_size=0.2, random_state=42)\n",
    "\n",
    "print (X_train.shape)"
   ]
  },
  {
   "cell_type": "markdown",
   "metadata": {},
   "source": [
    "### Step 3: Build the model\n",
    "\n",
    "Check how to use Dense layers [here](https://keras.io/api/layers/core_layers/dense/)."
   ]
  },
  {
   "cell_type": "code",
   "execution_count": 23,
   "metadata": {},
   "outputs": [
    {
     "name": "stdout",
     "output_type": "stream",
     "text": [
      "Model: \"sequential\"\n",
      "_________________________________________________________________\n",
      "Layer (type)                 Output Shape              Param #   \n",
      "=================================================================\n",
      "dense (Dense)                multiple                  8960      \n",
      "_________________________________________________________________\n",
      "dense_1 (Dense)              multiple                  16512     \n",
      "_________________________________________________________________\n",
      "dense_2 (Dense)              multiple                  8256      \n",
      "_________________________________________________________________\n",
      "dense_3 (Dense)              multiple                  2080      \n",
      "_________________________________________________________________\n",
      "dropout (Dropout)            multiple                  0         \n",
      "_________________________________________________________________\n",
      "dense_4 (Dense)              multiple                  66        \n",
      "=================================================================\n",
      "Total params: 35,874\n",
      "Trainable params: 35,874\n",
      "Non-trainable params: 0\n",
      "_________________________________________________________________\n"
     ]
    }
   ],
   "source": [
    "## TODO: Modify the model to achieve > 90% evaluation accuracy \n",
    "\n",
    "dense_model = tf.keras.models.Sequential([\n",
    "  tf.keras.layers.Dense(128, activation='relu'), # Hidden layer\n",
    "  tf.keras.layers.Dense(128, activation='relu'), # Hidden layer\n",
    "  tf.keras.layers.Dense(64, activation='relu'), # Hidden layer\n",
    "  tf.keras.layers.Dense(32, activation='relu'), # Hidden layer\n",
    "  tf.keras.layers.Dropout(0.1),                  # Normalization layer\n",
    "  tf.keras.layers.Dense(2, activation='softmax')# There are 10 classes\n",
    "])\n",
    "\n",
    "dense_model.build((1,69))\n",
    "dense_model.summary()"
   ]
  },
  {
   "cell_type": "code",
   "execution_count": 24,
   "metadata": {},
   "outputs": [],
   "source": [
    "dense_model.compile(optimizer='adam',\n",
    "              loss='sparse_categorical_crossentropy',\n",
    "              metrics=['accuracy'])"
   ]
  },
  {
   "cell_type": "markdown",
   "metadata": {},
   "source": [
    "### Step 4: Fit the model"
   ]
  },
  {
   "cell_type": "code",
   "execution_count": 25,
   "metadata": {},
   "outputs": [
    {
     "name": "stdout",
     "output_type": "stream",
     "text": [
      "Epoch 1/10\n",
      "7/7 [==============================] - 0s 1ms/step - loss: 7.8842 - accuracy: 0.5179\n",
      "Epoch 2/10\n",
      "7/7 [==============================] - 0s 2ms/step - loss: 1.9099 - accuracy: 0.7500\n",
      "Epoch 3/10\n",
      "7/7 [==============================] - 0s 2ms/step - loss: 0.7009 - accuracy: 0.8482\n",
      "Epoch 4/10\n",
      "7/7 [==============================] - 0s 2ms/step - loss: 0.4076 - accuracy: 0.8839\n",
      "Epoch 5/10\n",
      "7/7 [==============================] - 0s 2ms/step - loss: 0.2090 - accuracy: 0.9196\n",
      "Epoch 6/10\n",
      "7/7 [==============================] - 0s 2ms/step - loss: 0.1056 - accuracy: 0.9464\n",
      "Epoch 7/10\n",
      "7/7 [==============================] - 0s 2ms/step - loss: 0.0834 - accuracy: 0.9643\n",
      "Epoch 8/10\n",
      "7/7 [==============================] - 0s 2ms/step - loss: 0.0452 - accuracy: 0.9777\n",
      "Epoch 9/10\n",
      "7/7 [==============================] - 0s 2ms/step - loss: 0.0459 - accuracy: 0.9911\n",
      "Epoch 10/10\n",
      "7/7 [==============================] - 0s 2ms/step - loss: 0.0709 - accuracy: 0.9732\n"
     ]
    },
    {
     "data": {
      "text/plain": [
       "<tensorflow.python.keras.callbacks.History at 0x14a2cb4d0>"
      ]
     },
     "execution_count": 25,
     "metadata": {},
     "output_type": "execute_result"
    }
   ],
   "source": [
    "dense_model.fit(X_train_hand2, y_train_hand2, epochs=10) #X_ to denote data observations, y_ to denote labels"
   ]
  },
  {
   "cell_type": "markdown",
   "metadata": {},
   "source": [
    "### Step 5: Evalutate (where magic happens!)"
   ]
  },
  {
   "cell_type": "code",
   "execution_count": 26,
   "metadata": {},
   "outputs": [
    {
     "name": "stdout",
     "output_type": "stream",
     "text": [
      "2/2 [==============================] - 0s 1ms/step - loss: 0.1238 - accuracy: 0.9464\n"
     ]
    },
    {
     "data": {
      "text/plain": [
       "[0.1237812265753746, 0.9464285969734192]"
      ]
     },
     "execution_count": 26,
     "metadata": {},
     "output_type": "execute_result"
    }
   ],
   "source": [
    "dense_model.evaluate(X_test_hand2, y_test_hand2)"
   ]
  },
  {
   "cell_type": "markdown",
   "metadata": {},
   "source": [
    "**Discussion:** \n",
    "\n",
    "- Do you achieve > 90% accuracy?\n",
    "- If the training accuracy is higher than the evaluation accuracy, what does that mean?\n",
    "\n",
    "<img src=\"images/overfit.png\">"
   ]
  },
  {
   "cell_type": "markdown",
   "metadata": {},
   "source": [
    "## 1.2 Convolutional Neural Network<a id=\"12\">"
   ]
  },
  {
   "cell_type": "markdown",
   "metadata": {},
   "source": [
    "### CNN architecture\n",
    "<img src=\"images/cnn.jpg\" width=600>\n",
    "\n",
    "### Motivation: traditional computer vision pipeline\n",
    "\n",
    "<img src=\"images/traditionalcv.png\" width=700>\n",
    "\n",
    "- Denoising: High-pass & low-pass filters\n",
    "- Corner/edge detector: Harris point detector, Canny edge detector, Laplacian of Gaussian ...\n",
    "- Local feature descriptor: Scale-invariant feature transform (SIFT), Histogram of oriented gradients (HOG), Viola/Jones Face Detector, ...\n",
    "- Recognition algorithm: Bag-of-word model (GoW), K-means clustering, vocabulary tree/inverted index, machine learning (classifier), ..."
   ]
  },
  {
   "cell_type": "markdown",
   "metadata": {},
   "source": [
    "### MNIST as an example\n",
    "<img src=\"images/mnist_plot-800x600.png\" width=400>"
   ]
  },
  {
   "cell_type": "markdown",
   "metadata": {},
   "source": [
    "### Step 1: Data preparation"
   ]
  },
  {
   "cell_type": "code",
   "execution_count": 580,
   "metadata": {},
   "outputs": [
    {
     "name": "stdout",
     "output_type": "stream",
     "text": [
      "(60000, 28, 28, 1)\n",
      "(60000, 10)\n"
     ]
    }
   ],
   "source": [
    "(X_train, y_train), (X_test, y_test) = tf.keras.datasets.mnist.load_data()\n",
    "\n",
    "X_train = X_train.reshape(X_train.shape[0], 28, 28, 1).astype('float32')\n",
    "X_test = X_test.reshape(X_test.shape[0], 28, 28, 1).astype('float32')\n",
    "X_train = X_train / 255\n",
    "X_test = X_test / 255\n",
    "y_train = tf.keras.utils.to_categorical(y_train)\n",
    "y_test = tf.keras.utils.to_categorical(y_test)\n",
    "num_classes = y_test.shape[1]\n",
    "\n",
    "print(X_train.shape)\n",
    "print(y_train.shape)"
   ]
  },
  {
   "cell_type": "markdown",
   "metadata": {},
   "source": [
    "### Step 2: Ceate your model"
   ]
  },
  {
   "cell_type": "code",
   "execution_count": 581,
   "metadata": {},
   "outputs": [
    {
     "name": "stdout",
     "output_type": "stream",
     "text": [
      "Model: \"sequential_87\"\n",
      "_________________________________________________________________\n",
      "Layer (type)                 Output Shape              Param #   \n",
      "=================================================================\n",
      "conv2d_28 (Conv2D)           (None, 24, 24, 32)        832       \n",
      "_________________________________________________________________\n",
      "max_pooling2d_17 (MaxPooling (None, 12, 12, 32)        0         \n",
      "_________________________________________________________________\n",
      "flatten_26 (Flatten)         (None, 4608)              0         \n",
      "_________________________________________________________________\n",
      "dense_254 (Dense)            (None, 128)               589952    \n",
      "_________________________________________________________________\n",
      "dense_255 (Dense)            (None, 10)                1290      \n",
      "=================================================================\n",
      "Total params: 592,074\n",
      "Trainable params: 592,074\n",
      "Non-trainable params: 0\n",
      "_________________________________________________________________\n"
     ]
    }
   ],
   "source": [
    "cnn_model = tf.keras.models.Sequential([\n",
    "    tf.keras.layers.Conv2D(32, kernel_size = (5, 5), input_shape=(28, 28, 1), activation='relu'), # Hidden layer\n",
    "    tf.keras.layers.MaxPooling2D(),\n",
    "    tf.keras.layers.Flatten(),\n",
    "    tf.keras.layers.Dense(128, activation='relu'),\n",
    "    tf.keras.layers.Dense(num_classes, activation='softmax')# There are 10 classes\n",
    "])\n",
    "\n",
    "cnn_model.summary()"
   ]
  },
  {
   "cell_type": "code",
   "execution_count": 582,
   "metadata": {},
   "outputs": [],
   "source": [
    "cnn_model.compile(optimizer='adam',\n",
    "              loss='categorical_crossentropy',\n",
    "              metrics=['accuracy'])"
   ]
  },
  {
   "cell_type": "markdown",
   "metadata": {},
   "source": [
    "### Step 3: Train the model"
   ]
  },
  {
   "cell_type": "code",
   "execution_count": 583,
   "metadata": {},
   "outputs": [
    {
     "name": "stdout",
     "output_type": "stream",
     "text": [
      "Epoch 1/5\n",
      "1875/1875 [==============================] - 14s 7ms/step - loss: 0.1313 - accuracy: 0.9607\n",
      "Epoch 2/5\n",
      "1875/1875 [==============================] - 14s 8ms/step - loss: 0.0443 - accuracy: 0.9864\n",
      "Epoch 3/5\n",
      "1875/1875 [==============================] - 14s 7ms/step - loss: 0.0286 - accuracy: 0.9905\n",
      "Epoch 4/5\n",
      "1875/1875 [==============================] - 13s 7ms/step - loss: 0.0193 - accuracy: 0.9939\n",
      "Epoch 5/5\n",
      "1875/1875 [==============================] - 13s 7ms/step - loss: 0.0142 - accuracy: 0.9952\n"
     ]
    },
    {
     "data": {
      "text/plain": [
       "<tensorflow.python.keras.callbacks.History at 0x153656ed0>"
      ]
     },
     "execution_count": 583,
     "metadata": {},
     "output_type": "execute_result"
    }
   ],
   "source": [
    "cnn_model.fit(X_train, y_train, epochs=5) #X_ to denote data observations, y_ to denote labels"
   ]
  },
  {
   "cell_type": "markdown",
   "metadata": {},
   "source": [
    "### Step 4: Evalutate the model"
   ]
  },
  {
   "cell_type": "code",
   "execution_count": 584,
   "metadata": {},
   "outputs": [
    {
     "name": "stdout",
     "output_type": "stream",
     "text": [
      "313/313 [==============================] - 1s 2ms/step - loss: 0.0359 - accuracy: 0.9878\n"
     ]
    },
    {
     "data": {
      "text/plain": [
       "[0.03593611717224121, 0.9878000020980835]"
      ]
     },
     "execution_count": 584,
     "metadata": {},
     "output_type": "execute_result"
    }
   ],
   "source": [
    "cnn_model.evaluate(X_test, y_test)"
   ]
  },
  {
   "cell_type": "markdown",
   "metadata": {},
   "source": [
    "## 1.3 Advanced algorithms<a id=\"13\">"
   ]
  },
  {
   "cell_type": "markdown",
   "metadata": {},
   "source": [
    "In the previous example, every image is cropped so that there is only one object, placed in the center, with very similar scale and rotation, to identify from one image. However, in practice, we are much more challenges:\n",
    "- Variable Number of Objects\n",
    "- Multiple Spatial Scales and Aspect Ratios\n",
    "- Limited Data\n",
    "- Speed for Real-Time detection\n",
    "\n",
    "**Discussion:** How will you design an algorithm to automatically detect where are the objects in an image? You can imagine a big black background in which digits (MNIST) can be anywhere.\n",
    "\n",
    "\n",
    "### R-CNN (2014)\n",
    "\n",
    "<img src=\"images/r-cnn1.png\">\n",
    "\n",
    "Key concept: using selective search to extract just 2000 regions from the image, then feed these 2000 regions into CNN.\n",
    "\n",
    "Selective Search:\n",
    "1. Generate initial sub-segmentation, we generate many candidate     regions\n",
    "2. Use greedy algorithm to recursively combine similar regions into larger ones \n",
    "3. Use the generated regions to produce the final candidate region proposals \n",
    "\n",
    "Problems with R-CNN\n",
    "\n",
    "- It still takes a huge amount of time to train the network.\n",
    "- It cannot be implemented real time as it takes around 47 seconds for each test image.\n",
    "- The selective search algorithm is a fixed algorithm. This could lead to the generation of bad candidate region proposals.\n",
    "\n",
    "You can find the original paper [here](https://arxiv.org/abs/1311.2524)."
   ]
  },
  {
   "cell_type": "markdown",
   "metadata": {},
   "source": [
    "---\n",
    "### Fast R-CNN (2015)\n",
    "\n",
    "<img src=\"images/fast-r-cnn.png\">\n",
    "\n",
    "Improvement: \n",
    "- instead of feeding the region proposals to the CNN, we feed the input image to the CNN to generate a convolutional feature map. \n",
    "- From the convolutional feature map, we identify the region of proposals\n",
    "\n",
    "Limitation:\n",
    "- Still require selective algorithm to find the ROIs from the feature map.\n",
    "\n",
    "You can find the original paper [here](https://arxiv.org/abs/1504.08083)."
   ]
  },
  {
   "cell_type": "markdown",
   "metadata": {},
   "source": [
    "---\n",
    "### Faster R-CNN (2016)\n",
    "\n",
    "<img src=\"images/faster-r-cnn.png\" width=600>\n",
    "\n",
    "Improvement: \n",
    "- The image is provided as an input to a convolutional network which provides a convolutional feature map. \n",
    "- Instead of using selective search algorithm on the feature map to identify the region proposals, a separate network is used to predict the region proposals.\n",
    "\n",
    "Limitation:\n",
    "- Still require regional proposals.\n",
    "\n",
    "You can find the original paper [here](https://papers.nips.cc/paper/2015/file/14bfa6bb14875e45bba028a21ed38046-Paper.pdf).\n",
    "\n",
    "<img src=\"images/rcnn-com.png\" width=600>"
   ]
  },
  {
   "cell_type": "markdown",
   "metadata": {},
   "source": [
    "---\n",
    "### YOLO: You Only Look Once (2015)\n"
   ]
  },
  {
   "cell_type": "code",
   "execution_count": 30,
   "metadata": {},
   "outputs": [
    {
     "data": {
      "text/html": [
       "<iframe width=\"560\" height=\"315\" src=\"https://www.youtube.com/embed/LOyHEZg5iAk\" frameborder=\"0\" allow=\"accelerometer; autoplay; clipboard-write; encrypted-media; gyroscope; picture-in-picture\" allowfullscreen></iframe>"
      ],
      "text/plain": [
       "<IPython.core.display.HTML object>"
      ]
     },
     "execution_count": 30,
     "metadata": {},
     "output_type": "execute_result"
    }
   ],
   "source": [
    "\n",
    "HTML('<iframe width=\"560\" height=\"315\" src=\"https://www.youtube.com/embed/LOyHEZg5iAk\" frameborder=\"0\" allow=\"accelerometer; autoplay; clipboard-write; encrypted-media; gyroscope; picture-in-picture\" allowfullscreen></iframe>')"
   ]
  },
  {
   "cell_type": "markdown",
   "metadata": {},
   "source": [
    "<img src=\"images/yolo1.png\" width=600>\n",
    "Core concept: \n",
    "YOLO doesn’t search for interested regions in the input image that could contain an object, instead it splits the image into cells, typically 19x19 grid. Each cell is then responsible for predicting K bounding boxes.\n",
    "\n",
    "\n",
    "Each bounding box can be described using four descriptors:\n",
    "1. Center of the box (bx, by)\n",
    "2. Width (bw)\n",
    "3. Height (bh)\n",
    "4. Value c corresponding to the class of an object\n",
    "<img src=\"images/yolo2.png\" >\n",
    "\n",
    "To resolve this problem of bounding boxes that are very close each other, YOLO performs IoU (Intersection over Union) to keep the highest class probability among them (Non-max suppression).\n",
    "\n",
    "<img src=\"images/yolo3.png\" >\n",
    "\n",
    "<img src=\"images/yolo4.png\" >\n",
    "\n",
    "Improvement: \n",
    "- YOLO is way much faster faster(45 frames per second for v1, > 60 fps for later versions) than other object detection algorithms.\n",
    "\n",
    "Limitation:\n",
    "- Hard to detect very small objects.\n",
    "\n",
    "<img src=\"images/yolovsrcnn.png\" >\n",
    "\n",
    "\n",
    "You can find the papers here:\n",
    "- [YOLO v1](https://arxiv.org/abs/1506.02640)\n",
    "- YOLO v2\n",
    "- YOLO 9000\n",
    "- YOLO v3\n",
    "- YOLO v4\n",
    "\n",
    "<a href=\"#outline\">Back to top!</a></li>"
   ]
  },
  {
   "cell_type": "markdown",
   "metadata": {},
   "source": [
    "# Part 2: RNN, LSTM and application<a id=\"2\">"
   ]
  },
  {
   "cell_type": "markdown",
   "metadata": {},
   "source": [
    "<div class=\"alert alert-block alert-success\">\n",
    "<h2><img src=\"images/goal.png\" width=20, align=\"left\">&nbsp;Learning objectives of part 2</h2>\n",
    "    <br>Learn to:\n",
    "    <ul>\n",
    "        <li>have the basic concept of RNN and LSTM\n",
    "        <li>use Keras to quickly build LSTM models\n",
    "    </ul>\n",
    "</div>"
   ]
  },
  {
   "cell_type": "markdown",
   "metadata": {},
   "source": [
    "## 2.1 From Recurrent Neural Networks (RNN) to Long-short Term Memory (LSTM) <a id=\"21\">"
   ]
  },
  {
   "cell_type": "markdown",
   "metadata": {},
   "source": [
    "### The basic form of RNN\n",
    "\n",
    "Humans don’t start their thinking from scratch every second. As you read this essay, you understand each word based on your understanding of previous words. You don’t throw everything away and start thinking from scratch again. Your thoughts have persistence. Traditional neural networks can’t do this, and it seems like a major shortcoming. For example, imagine you want to classify what kind of event is happening at every point in a movie. It’s unclear how a traditional neural network could use its reasoning about previous events in the film to inform later ones.\n",
    "\n",
    "Recurrent neural networks address this issue. They are networks with loops in them, allowing information to persist."
   ]
  },
  {
   "cell_type": "markdown",
   "metadata": {},
   "source": [
    "<img src=\"images/rnn1.png\" width=600>\n",
    "\n",
    "In the above diagram, a chunk of neural network, A, looks at some input xt and outputs a value ht. A loop allows information to be passed from one step of the network to the next.\n",
    "\n",
    "\n",
    "**Discussion:** What are the potential applications of RNN?"
   ]
  },
  {
   "cell_type": "markdown",
   "metadata": {},
   "source": [
    "### Limitation of simple RNN\n",
    "\n",
    "The long-term dependency is not desirable sometimes. \n",
    "\n",
    "<img src=\"images/rnn2.png\" width=600>\n",
    "\n",
    "<img src=\"images/rnn3.png\" width=600>\n",
    "\n",
    "What should we do? A network that is capable of \"forgetting\"."
   ]
  },
  {
   "cell_type": "markdown",
   "metadata": {},
   "source": [
    "### Long-short term memory (LSTM) networks\n",
    "\n",
    "LSTMs are explicitly designed to avoid the long-term dependency problem. Remembering information for long periods of time is practically their default behavior, not something they struggle to learn!\n",
    "\n",
    "<img src=\"images/lstm1.png\" width=600>\n",
    "\n",
    "All recurrent neural networks have the form of a chain of repeating modules of neural network. In standard RNNs, this repeating module will have a very simple structure, such as a single tanh layer (above).\n",
    "\n",
    "<img src=\"images/lstm2.png\" width=600>\n",
    "\n",
    "LSTMs also have this chain like structure, but the repeating module has a different structure. Instead of having a single neural network layer, there are four, interacting in a very special way."
   ]
  },
  {
   "cell_type": "markdown",
   "metadata": {},
   "source": [
    "### Core concept of LSTM\n",
    "\n",
    "<img src=\"images/lstm3.png\">\n",
    "\n",
    "The key to LSTMs is the cell state, the horizontal line running through the top of the diagram. It runs straight down the entire chain, with only some minor linear interactions. It’s very easy for information to just flow along it unchanged.\n",
    "\n",
    "<img src=\"images/gate.png\" width=100>\n",
    "\n",
    "Gates are a way to optionally let information through. They are composed out of a sigmoid neural net layer and a pointwise multiplication operation.\n",
    "\n",
    "**Discussion:** Why use sigmoid as the activation function?"
   ]
  },
  {
   "cell_type": "markdown",
   "metadata": {},
   "source": [
    "### Major GATES in LSTM\n",
    "\n",
    "\n",
    "#### 1. Forget gate layer:\n",
    "The first step in our LSTM is to decide what information we’re going to throw away from the cell state. This decision is made by a sigmoid layer called the “forget gate layer.” \n",
    "\n",
    "<img src=\"images/lstm4.png\">\n",
    "\n",
    "\n",
    "\n",
    "#### 2. Input gate layer:\n",
    "The next step is to decide what new information we’re going to store in the cell state. This has two parts. First, a sigmoid layer called the “input gate layer” decides which values we’ll update. Next, a tanh layer creates a vector of new candidate values, Ct, that could be added to the state. In the next step, we’ll combine these two to create an update to the state.\n",
    "\n",
    "<img src=\"images/lstm5.png\">\n",
    "\n",
    "#### 3. Update Ct based on forget gate and input gate\n",
    "\n",
    "<img src=\"images/lstm7.png\">\n",
    "\n",
    "#### 4. Determine the output\n",
    "\n",
    "<img src=\"images/lstm6.png\">\n",
    "\n",
    "\n",
    "**Optional reading:** [This blog post](https://colah.github.io/posts/2015-08-Understanding-LSTMs/) provides a clear overview.\n"
   ]
  },
  {
   "cell_type": "markdown",
   "metadata": {},
   "source": [
    "## 2.2 LSTM using Keras <a id=\"22\">"
   ]
  },
  {
   "cell_type": "code",
   "execution_count": 4,
   "metadata": {},
   "outputs": [
    {
     "data": {
      "text/html": [
       "<img src=\"https://media.giphy.com/media/Aw0kXVxZDbkTC/giphy.gif\">"
      ],
      "text/plain": [
       "<IPython.core.display.HTML object>"
      ]
     },
     "execution_count": 4,
     "metadata": {},
     "output_type": "execute_result"
    }
   ],
   "source": [
    "HTML('<img src=\"https://media.giphy.com/media/Aw0kXVxZDbkTC/giphy.gif\">')"
   ]
  },
  {
   "cell_type": "markdown",
   "metadata": {},
   "source": [
    "Here are several steps we have to follow before the actual training of our model:\n",
    "- Split the text by chunks of words: We would like to remove all unnecessary symbols from the text and work only with separate words.\n",
    "\n",
    "\n",
    "- Encode the words from categorical to numerical variables: The machine cannot understand words and therefore it needs numerical values so as to make it easier for the machine to process the data. To apply any type of algorithm to the data, we need to convert the categorical data to numbers. To achieve this, one hot ending is one way as it converts categorical variables into binary vectors.\n",
    "\n",
    "<img src=\"images/onehot.jpg\">\n",
    "\n",
    "\n",
    "Additionally, we will use **Pickle** in this example. Pickle serializing and de-serializing a Python object structure. Any object in python can be 'pickled' so that it can be saved on disk. What pickle does is that it serializes the object first before writing it to file. Pickling is a way to convert a python object (list, dict, etc.) into a character stream. The idea is that this character stream contains all the information necessary to reconstruct the object in another python script."
   ]
  },
  {
   "cell_type": "markdown",
   "metadata": {},
   "source": [
    "### Step 1. Data preparation\n"
   ]
  },
  {
   "cell_type": "code",
   "execution_count": 49,
   "metadata": {},
   "outputs": [
    {
     "name": "stdout",
     "output_type": "stream",
     "text": [
      "title: animal farm author: george orwell (pseudonym of eric blair) (1903-1950) * a project gutenberg\n",
      "title: animal farm author: george orwell\n",
      "[' ', 's', 'd']\n",
      "t's one hot encoding: \n",
      " [False False False False False False False False False False False False\n",
      " False False False False False False False False False False False False\n",
      " False False False False False False False False False False False False\n",
      " False False False False False False False  True False False False False\n",
      " False False]\n",
      "space key's ont hot encoding: \n",
      " [ True False False False False False False False False False False False\n",
      " False False False False False False False False False False False False\n",
      " False False False False False False False False False False False False\n",
      " False False False False False False False False False False False False\n",
      " False False]\n"
     ]
    }
   ],
   "source": [
    "# Define a fixed sequence length for training.\n",
    "SEQUENCE_LENGTH = 40\n",
    "\n",
    "# The saved model file will be named like the dataset file.\n",
    "dataset_file = 'files/animal-farm.txt'\n",
    "# Do some text preprocessing.\n",
    "text_source = open(dataset_file).read().lower().replace('\\n', ' ') # merge all the lines\n",
    "text_source = ' '.join(text_source.split()) # Remove redundant space\n",
    "print (text_source[0:100])\n",
    "\n",
    "# Create vocabulary. We need to look up chars by index and vice versa.\n",
    "chars = sorted(list(set(text_source)))\n",
    "char_indices = dict((c, i) for i, c in enumerate(chars))\n",
    "\n",
    "# Create text chunks and their expected prediction.\n",
    "sentences = []\n",
    "char_step = 3\n",
    "next_char = []\n",
    "for i in range(0, len(text_source) - SEQUENCE_LENGTH, char_step):\n",
    "    sentences.append(text_source[i: i + SEQUENCE_LENGTH])\n",
    "    next_char.append(text_source[i + SEQUENCE_LENGTH])\n",
    "\n",
    "print (sentences[0])\n",
    "print (next_char[0:3])\n",
    "    \n",
    "# Create 1-hot encoded training data.\n",
    "X = np.zeros((len(sentences), SEQUENCE_LENGTH, len(chars)), dtype=np.bool)\n",
    "y = np.zeros((len(sentences), len(chars)), dtype=np.bool)\n",
    "for i, sentence in enumerate(sentences):\n",
    "    for t, char in enumerate(sentence):\n",
    "        X[i, t, char_indices[char]] = 1\n",
    "    y[i, char_indices[next_char[i]]] = 1\n",
    "\n",
    "print (\"t's one hot encoding: \\n\", X[0][0])\n",
    "print (\"space key's ont hot encoding: \\n\", y[0])"
   ]
  },
  {
   "cell_type": "markdown",
   "metadata": {},
   "source": [
    "### Step 2. Create a model and train the model"
   ]
  },
  {
   "cell_type": "code",
   "execution_count": 26,
   "metadata": {},
   "outputs": [
    {
     "name": "stdout",
     "output_type": "stream",
     "text": [
      "Epoch 1/20\n",
      "353/353 [==============================] - 8s 23ms/step - loss: 2.9194 - accuracy: 0.1850 - val_loss: 2.7703 - val_accuracy: 0.2094\n",
      "Epoch 2/20\n",
      "353/353 [==============================] - 8s 22ms/step - loss: 2.5980 - accuracy: 0.2874 - val_loss: 2.4702 - val_accuracy: 0.3182\n",
      "Epoch 3/20\n",
      "353/353 [==============================] - 8s 22ms/step - loss: 2.3859 - accuracy: 0.3308 - val_loss: 2.3328 - val_accuracy: 0.3318\n",
      "Epoch 4/20\n",
      "353/353 [==============================] - 8s 24ms/step - loss: 2.2907 - accuracy: 0.3455 - val_loss: 2.2613 - val_accuracy: 0.3565\n",
      "Epoch 5/20\n",
      "353/353 [==============================] - 9s 24ms/step - loss: 2.2317 - accuracy: 0.3598 - val_loss: 2.2045 - val_accuracy: 0.3657\n",
      "Epoch 6/20\n",
      "353/353 [==============================] - 8s 24ms/step - loss: 2.1825 - accuracy: 0.3720 - val_loss: 2.1586 - val_accuracy: 0.3744\n",
      "Epoch 7/20\n",
      "353/353 [==============================] - 8s 22ms/step - loss: 2.1391 - accuracy: 0.3822 - val_loss: 2.1210 - val_accuracy: 0.3852\n",
      "Epoch 8/20\n",
      "353/353 [==============================] - 8s 22ms/step - loss: 2.1012 - accuracy: 0.3931 - val_loss: 2.0877 - val_accuracy: 0.3979\n",
      "Epoch 9/20\n",
      "353/353 [==============================] - 8s 23ms/step - loss: 2.0684 - accuracy: 0.4045 - val_loss: 2.0587 - val_accuracy: 0.4032\n",
      "Epoch 10/20\n",
      "353/353 [==============================] - 8s 23ms/step - loss: 2.0384 - accuracy: 0.4136 - val_loss: 2.0347 - val_accuracy: 0.4180\n",
      "Epoch 11/20\n",
      "353/353 [==============================] - 8s 22ms/step - loss: 2.0122 - accuracy: 0.4201 - val_loss: 2.0125 - val_accuracy: 0.4178\n",
      "Epoch 12/20\n",
      "353/353 [==============================] - 8s 22ms/step - loss: 1.9876 - accuracy: 0.4280 - val_loss: 1.9909 - val_accuracy: 0.4273\n",
      "Epoch 13/20\n",
      "353/353 [==============================] - 8s 21ms/step - loss: 1.9657 - accuracy: 0.4341 - val_loss: 1.9715 - val_accuracy: 0.4353\n",
      "Epoch 14/20\n",
      "353/353 [==============================] - 8s 21ms/step - loss: 1.9451 - accuracy: 0.4402 - val_loss: 1.9559 - val_accuracy: 0.4394\n",
      "Epoch 15/20\n",
      "353/353 [==============================] - 8s 22ms/step - loss: 1.9256 - accuracy: 0.4446 - val_loss: 1.9411 - val_accuracy: 0.4411\n",
      "Epoch 16/20\n",
      "353/353 [==============================] - 8s 24ms/step - loss: 1.9071 - accuracy: 0.4492 - val_loss: 1.9243 - val_accuracy: 0.4461\n",
      "Epoch 17/20\n",
      "353/353 [==============================] - 8s 22ms/step - loss: 1.8906 - accuracy: 0.4538 - val_loss: 1.9082 - val_accuracy: 0.4517\n",
      "Epoch 18/20\n",
      "353/353 [==============================] - 8s 23ms/step - loss: 1.8748 - accuracy: 0.4572 - val_loss: 1.9027 - val_accuracy: 0.4515\n",
      "Epoch 19/20\n",
      "353/353 [==============================] - 8s 22ms/step - loss: 1.8598 - accuracy: 0.4629 - val_loss: 1.8874 - val_accuracy: 0.4537\n",
      "Epoch 20/20\n",
      "353/353 [==============================] - 8s 22ms/step - loss: 1.8460 - accuracy: 0.4658 - val_loss: 1.8740 - val_accuracy: 0.4579\n"
     ]
    }
   ],
   "source": [
    "# Define the model.\n",
    "model = tf.keras.models.Sequential()\n",
    "model.add(tf.keras.layers.LSTM(SEQUENCE_LENGTH, input_shape=(SEQUENCE_LENGTH, len(chars))))\n",
    "model.add(tf.keras.layers.Dense(len(chars), activation='softmax'))\n",
    "model.compile(loss='categorical_crossentropy', optimizer='rmsprop', metrics=['accuracy'])\n",
    "\n",
    "# Train and save the model.\n",
    "model.fit(X, y, validation_split=0.2, batch_size=128, epochs=20)\n",
    "model.save('{}.h5'.format(dataset_file))\n",
    "# Save also the vocabulary used to train the model.\n",
    "with open('{}.voc'.format(dataset_file), 'wb') as f:\n",
    "    pickle.dump(chars, f, protocol=2)"
   ]
  },
  {
   "cell_type": "markdown",
   "metadata": {},
   "source": [
    "### Step 3. Evaluate the model"
   ]
  },
  {
   "cell_type": "code",
   "execution_count": 27,
   "metadata": {},
   "outputs": [],
   "source": [
    "### Create dictionaries for characters and the model.\n",
    "\n",
    "MODEL = None\n",
    "CHARS = None\n",
    "char_indices, indices_char = {}, {}"
   ]
  },
  {
   "cell_type": "code",
   "execution_count": 28,
   "metadata": {},
   "outputs": [],
   "source": [
    "###  One-hot encoding of the test sample of the text.\n",
    "\n",
    "def encode_input(text):\n",
    "    x = np.zeros((1, SEQUENCE_LENGTH, len(CHARS)))\n",
    "    for t, char in enumerate(text.lower()):\n",
    "        x[0, t, char_indices[char]] = 1\n",
    "    return x\n",
    "\n",
    "### Take elements which occures the most often in the observed data.\n",
    "\n",
    "def sample(preds, top_n=1):\n",
    "    preds = np.asarray(preds)\n",
    "    # Extract the top_n elements with highest probability.\n",
    "    return list(heapq.nlargest(top_n, range(len(preds)), preds.take))\n",
    "\n",
    "### We would like to predict the extension of the sentence until we meet a space.\n",
    "\n",
    "def predict_completion(text):\n",
    "    completion = ''\n",
    "    while True:\n",
    "        x = encode_input(text)\n",
    "        preds = MODEL.predict(x).flatten()\n",
    "        next_index = sample(preds).pop()\n",
    "        next_char = indices_char[next_index]\n",
    "        completion += next_char\n",
    "        # Keep predicting until the end token.\n",
    "        if next_char == ' ':\n",
    "            return completion\n",
    "        # Update source text.\n",
    "        text = text[1:] + next_char\n",
    "        \n",
    "### Transforming numeric representation back to words using saved indexes of the characters.\n",
    "    \n",
    "def predict_completions(text, n_completions=3):\n",
    "    x = encode_input(text)\n",
    "    preds = MODEL.predict(x).flatten()\n",
    "    next_indices = sample(preds, n_completions)\n",
    "    return [indices_char[idx] + predict_completion(text[1:] + indices_char[idx]) for idx in next_indices]"
   ]
  },
  {
   "cell_type": "code",
   "execution_count": 29,
   "metadata": {},
   "outputs": [
    {
     "name": "stdout",
     "output_type": "stream",
     "text": [
      "One day, Julia secretly hands Winston a \n",
      "---\n",
      "One day, Julia secretly hands Winston a the \n",
      "One day, Julia secretly hands Winston a dome \n",
      "One day, Julia secretly hands Winston a for \n",
      "One day, Julia secretly hands Winston a was \n"
     ]
    }
   ],
   "source": [
    "if __name__ == '__main__':\n",
    "    dataset_file = 'files/animal-farm.txt'\n",
    "\n",
    "    MODEL = tf.keras.models.load_model('{}.h5'.format(dataset_file))\n",
    "    with open('{}.voc'.format(dataset_file), 'rb') as f:\n",
    "        CHARS = pickle.load(f)\n",
    "\n",
    "    char_indices = dict((c, i) for i, c in enumerate(CHARS))\n",
    "    indices_char = dict((i, c) for i, c in enumerate(CHARS))\n",
    "\n",
    "    # Our input sentences must have the same length used in training.\n",
    "    seq = \"One day, Julia secretly hands Winston a note confessing her love for him\"\n",
    "    seq = seq[0:SEQUENCE_LENGTH]\n",
    "\n",
    "    completions = predict_completions(seq, n_completions=4)\n",
    "    print(seq)\n",
    "    print('---')\n",
    "    for suggestion in completions:\n",
    "        print(seq + suggestion)"
   ]
  },
  {
   "cell_type": "markdown",
   "metadata": {},
   "source": [
    "<a href=\"#outline\">Back to top!</a></li>"
   ]
  },
  {
   "cell_type": "markdown",
   "metadata": {},
   "source": [
    "# Part 3: Autoencoder and application<a id=\"3\">"
   ]
  },
  {
   "cell_type": "markdown",
   "metadata": {},
   "source": [
    "<div class=\"alert alert-block alert-success\">\n",
    "<h2><img src=\"images/goal.png\" width=20, align=\"left\">&nbsp;Learning objectives of part 3</h2>\n",
    "    <br>Learn to:\n",
    "    <ul>\n",
    "        <li>have the basic concept of autoencoder\n",
    "        <li>use Keras to quickly build autoencoder models: compression and clustering\n",
    "    </ul>\n",
    "</div>"
   ]
  },
  {
   "cell_type": "markdown",
   "metadata": {},
   "source": [
    "## 3.1 Overview of autoencoder <a id=\"31\">"
   ]
  },
  {
   "cell_type": "markdown",
   "metadata": {},
   "source": [
    "### Basic concept\n",
    "\n",
    "<img src=\"images/autoencoder1.jpg\">\n",
    "\n",
    "\"Autoencoding\" is a data compression algorithm where the compression and decompression functions are 1) data-specific, 2) lossy, and 3) learned automatically from examples rather than engineered by a human. Additionally, in almost all contexts where the term \"autoencoder\" is used, the compression and decompression functions are implemented with neural networks.\n",
    "\n",
    "1. Autoencoders are **data-specific**, which means that they will only be able to compress data similar to what they have been trained on. This is different from, say, the MPEG-2 Audio Layer III (MP3) compression algorithm, which only holds assumptions about \"sound\" in general, but not about specific types of sounds. An autoencoder trained on pictures of faces would do a rather poor job of compressing pictures of trees, because the features it would learn would be face-specific.\n",
    "\n",
    "2. Autoencoders are **lossy**, which means that the decompressed outputs will be degraded compared to the original inputs (similar to MP3 or JPEG compression). This differs from lossless arithmetic compression.\n",
    "\n",
    "3. Autoencoders are **learned automatically** from data examples, which is a useful property: it means that it is easy to train specialized instances of the algorithm that will perform well on a specific type of input. It doesn't require any new engineering, just appropriate training data.\n",
    "\n",
    "**Discussion:** What is the loss function given it's a supervised learning?\n",
    "\n",
    "As visualized above, we can take an unlabeled dataset and frame it as a supervised learning problem tasked with outputting x̂, a reconstruction of the original input x. This network can be trained by minimizing the reconstruction error, L(x,x̂)."
   ]
  },
  {
   "cell_type": "markdown",
   "metadata": {},
   "source": [
    "<img src=\"images/bottleneck.png\" width=600>\n",
    "\n",
    "Specifically, we'll design a neural network architecture such that we impose a bottleneck in the network which forces a compressed knowledge representation of the original input.\n",
    "\n",
    "**Discussion:** What will happen if the bottleneck is the same size as the input/output layer?"
   ]
  },
  {
   "cell_type": "markdown",
   "metadata": {},
   "source": [
    "### Two kinds of autoencoder\n",
    "\n",
    "### 1. Undercomplete autoencoder\n",
    "\n",
    "<img src=\"images/autoencoder2.png\" width=600>\n",
    "\n",
    "This can be thought of as a more powerful (nonlinear) generalization of PCA. Whereas PCA attempts to discover a lower dimensional hyperplane which describes the original data, autoencoders are capable of learning nonlinear manifolds (a manifold is defined in simple terms as a continuous, non-intersecting surface). \n",
    "\n",
    "<img src=\"images/pcavsae.png\" width=300>\n",
    "\n",
    "### 2. Sparse autoencoders\n",
    "\n",
    "<img src=\"images/autoencoder3.png\" width=600>"
   ]
  },
  {
   "cell_type": "markdown",
   "metadata": {},
   "source": [
    "### Applications\n",
    "\n",
    "1. Dimensionality Reduction\n",
    "2. Image Compression\n",
    "3. Feature Extraction\n",
    "4. Image Denoising\n",
    "\n",
    "<img src=\"images/denoising_ae.png\">"
   ]
  },
  {
   "cell_type": "markdown",
   "metadata": {},
   "source": [
    "## 3.2 Compressing images from Fashion-MNIST dataset <a id=\"32\">"
   ]
  },
  {
   "cell_type": "markdown",
   "metadata": {},
   "source": [
    "<img src=\"images/fashion-mnist.png\" width=500>\n",
    "\n",
    "We have already met MNIST dataset. Some researches believe that it is too easy and overused. So, here Fashion-MNIST is a dataset of Zalando’s article images consisting of a training set of 60,000 examples and a test set of 10,000 examples. Each example is a 28×28 grayscale image, associated with a label from 10 classes."
   ]
  },
  {
   "cell_type": "markdown",
   "metadata": {},
   "source": [
    "### Step 1. Data preparation"
   ]
  },
  {
   "cell_type": "code",
   "execution_count": 31,
   "metadata": {},
   "outputs": [],
   "source": [
    "(X_train, y_train), (X_test, y_test) = tf.keras.datasets.fashion_mnist.load_data()"
   ]
  },
  {
   "cell_type": "code",
   "execution_count": 32,
   "metadata": {},
   "outputs": [],
   "source": [
    "# normalize our data.\n",
    "X_train, X_test = X_train / 255.0, X_test / 255.0"
   ]
  },
  {
   "cell_type": "markdown",
   "metadata": {},
   "source": [
    "In this example, we introduce \"validation dataset\"\n",
    "- **Training Dataset:** The sample of data used to fit the model.\n",
    "- **Validation Dataset:** The sample of data used to provide an unbiased evaluation of a model fit on the training dataset while tuning model hyperparameters. Usually for avoiding overfitting.\n",
    "\n",
    "- **Test Dataset:** The sample of data used to provide an unbiased evaluation of a final model fit on the training dataset.\n",
    "\n",
    "<img src=\"images/datasets.png\" width=500>"
   ]
  },
  {
   "cell_type": "code",
   "execution_count": 33,
   "metadata": {},
   "outputs": [],
   "source": [
    "# Split train partition again, so that we can use a subset for validation.\n",
    "num_val_imgs = 0.1 * len(X_train)\n",
    "num_val_imgs = int(num_val_imgs) \n",
    "\n",
    "X_train, X_valid = X_train[:-num_val_imgs], X_train[-num_val_imgs:]\n",
    "y_train, y_valid = y_train[:-num_val_imgs], y_train[-num_val_imgs:]"
   ]
  },
  {
   "cell_type": "code",
   "execution_count": 34,
   "metadata": {},
   "outputs": [],
   "source": [
    "#  Specify width and height.\n",
    "#  in this exercise fully connected neural layers are used, \n",
    "#  so we need to specify only width and height for each of the images.\n",
    "\n",
    "IMG_SHAPE = (28, 28)"
   ]
  },
  {
   "cell_type": "markdown",
   "metadata": {},
   "source": [
    "### Step 2. Create a model\n",
    "\n",
    "What makes a autoencoder?\n",
    "- encoding function\n",
    "- decoding function \n",
    "- loss function"
   ]
  },
  {
   "cell_type": "markdown",
   "metadata": {},
   "source": [
    "In a fully-connected neural network architecture, we connect every pixel from the input image example to some number of hidden neurons. In autoencoders, the number of neurons in the hidden layer(s) is typically smaller than the number of input features."
   ]
  },
  {
   "cell_type": "code",
   "execution_count": 35,
   "metadata": {},
   "outputs": [],
   "source": [
    " # Create encoder network.\n",
    "encoder = tf.keras.Sequential([\n",
    "    tf.keras.layers.Flatten(input_shape=IMG_SHAPE),\n",
    "    tf.keras.layers.Dense(100, activation='relu'),\n",
    "    tf.keras.layers.Dense(50, activation='relu'),\n",
    "])"
   ]
  },
  {
   "cell_type": "code",
   "execution_count": 36,
   "metadata": {},
   "outputs": [],
   "source": [
    " # Create decoder network.\n",
    "decoder = tf.keras.Sequential([\n",
    "    tf.keras.layers.Dense(100, activation='relu', input_shape=encoder.output_shape),\n",
    "    tf.keras.layers.Dense(IMG_SHAPE[0] * IMG_SHAPE[1], activation='sigmoid'),\n",
    "    tf.keras.layers.Reshape(IMG_SHAPE),\n",
    "])"
   ]
  },
  {
   "cell_type": "code",
   "execution_count": 37,
   "metadata": {},
   "outputs": [
    {
     "name": "stdout",
     "output_type": "stream",
     "text": [
      "WARNING:tensorflow:Model was constructed with shape (None, None, 50) for input Tensor(\"dense_4_input:0\", shape=(None, None, 50), dtype=float32), but it was called on an input with incompatible shape (None, 50).\n",
      "Model: \"sequential_4\"\n",
      "_________________________________________________________________\n",
      "Layer (type)                 Output Shape              Param #   \n",
      "=================================================================\n",
      "sequential_2 (Sequential)    (None, 50)                83550     \n",
      "_________________________________________________________________\n",
      "sequential_3 (Sequential)    (None, 28, 28)            84284     \n",
      "=================================================================\n",
      "Total params: 167,834\n",
      "Trainable params: 167,834\n",
      "Non-trainable params: 0\n",
      "_________________________________________________________________\n"
     ]
    }
   ],
   "source": [
    "# Create autoencoder model, compile it, and train it.\n",
    "autoencoder = tf.keras.Sequential([encoder, decoder])\n",
    "autoencoder.summary()"
   ]
  },
  {
   "cell_type": "markdown",
   "metadata": {},
   "source": [
    "### Step 3. model training"
   ]
  },
  {
   "cell_type": "code",
   "execution_count": 38,
   "metadata": {},
   "outputs": [],
   "source": [
    "def rec_acc(y_true, y_pred):\n",
    "    return tf.keras.metrics.binary_accuracy(tf.round(y_true), tf.round(y_pred))"
   ]
  },
  {
   "cell_type": "code",
   "execution_count": 39,
   "metadata": {},
   "outputs": [
    {
     "name": "stdout",
     "output_type": "stream",
     "text": [
      "Epoch 1/2\n",
      "WARNING:tensorflow:Model was constructed with shape (None, None, 50) for input Tensor(\"dense_4_input:0\", shape=(None, None, 50), dtype=float32), but it was called on an input with incompatible shape (None, 50).\n",
      "WARNING:tensorflow:Model was constructed with shape (None, None, 50) for input Tensor(\"dense_4_input:0\", shape=(None, None, 50), dtype=float32), but it was called on an input with incompatible shape (None, 50).\n",
      "1687/1688 [============================>.] - ETA: 0s - loss: 0.0247 - mse: 0.0247 - rec_acc: 0.9074WARNING:tensorflow:Model was constructed with shape (None, None, 50) for input Tensor(\"dense_4_input:0\", shape=(None, None, 50), dtype=float32), but it was called on an input with incompatible shape (None, 50).\n",
      "1688/1688 [==============================] - 4s 2ms/step - loss: 0.0247 - mse: 0.0247 - rec_acc: 0.9074 - val_loss: 0.0167 - val_mse: 0.0167 - val_rec_acc: 0.9281\n",
      "Epoch 2/2\n",
      "1688/1688 [==============================] - 4s 2ms/step - loss: 0.0150 - mse: 0.0150 - rec_acc: 0.9332 - val_loss: 0.0143 - val_mse: 0.0143 - val_rec_acc: 0.9330\n"
     ]
    },
    {
     "data": {
      "text/plain": [
       "<tensorflow.python.keras.callbacks.History at 0x14ffd7510>"
      ]
     },
     "execution_count": 39,
     "metadata": {},
     "output_type": "execute_result"
    }
   ],
   "source": [
    "autoencoder.compile(loss='mse', optimizer='adam', metrics=['mse', rec_acc])\n",
    "autoencoder.fit(X_train, X_train, epochs=2, validation_data=(X_valid, X_valid))"
   ]
  },
  {
   "cell_type": "markdown",
   "metadata": {},
   "source": [
    "You can see that after 2 epochs, the autoencoder seems to reach a stable train/test loss value of about 0.01.\n",
    "\n",
    "Let's see an overview of our network architectures."
   ]
  },
  {
   "cell_type": "code",
   "execution_count": 40,
   "metadata": {},
   "outputs": [
    {
     "name": "stdout",
     "output_type": "stream",
     "text": [
      "Model: \"sequential_2\"\n",
      "_________________________________________________________________\n",
      "Layer (type)                 Output Shape              Param #   \n",
      "=================================================================\n",
      "flatten (Flatten)            (None, 784)               0         \n",
      "_________________________________________________________________\n",
      "dense_2 (Dense)              (None, 100)               78500     \n",
      "_________________________________________________________________\n",
      "dense_3 (Dense)              (None, 50)                5050      \n",
      "=================================================================\n",
      "Total params: 83,550\n",
      "Trainable params: 83,550\n",
      "Non-trainable params: 0\n",
      "_________________________________________________________________\n",
      "Model: \"sequential_3\"\n",
      "_________________________________________________________________\n",
      "Layer (type)                 Output Shape              Param #   \n",
      "=================================================================\n",
      "dense_4 (Dense)              multiple                  5100      \n",
      "_________________________________________________________________\n",
      "dense_5 (Dense)              multiple                  79184     \n",
      "_________________________________________________________________\n",
      "reshape (Reshape)            (None, 28, 28)            0         \n",
      "=================================================================\n",
      "Total params: 84,284\n",
      "Trainable params: 84,284\n",
      "Non-trainable params: 0\n",
      "_________________________________________________________________\n"
     ]
    }
   ],
   "source": [
    "encoder.summary()\n",
    "decoder.summary()"
   ]
  },
  {
   "cell_type": "markdown",
   "metadata": {},
   "source": [
    "### 4. Model testing\n",
    "\n",
    "Since we work with images, it is very simple to check how good our model is. Let's pick a random item from the data we have."
   ]
  },
  {
   "cell_type": "code",
   "execution_count": 41,
   "metadata": {},
   "outputs": [],
   "source": [
    "# This function selects one item at random from a list.\n",
    "def randselect(arr, num=1):\n",
    "    num_samples = arr.shape[0]\n",
    "    rand_index = np.random.choice(num_samples, num, replace=False)\n",
    "    return arr[rand_index]"
   ]
  },
  {
   "cell_type": "code",
   "execution_count": 42,
   "metadata": {},
   "outputs": [],
   "source": [
    "def show_reconstructions(model, images, num_images=10):\n",
    "    samples = images[:num_images]\n",
    "    # Better: select `num_images` at random.\n",
    "    samples = randselect(images, num_images)\n",
    "    reconstructions = model.predict(samples)\n",
    "    # Allocate output fig size, in inches.\n",
    "    fig = plt.figure(figsize=(num_images, num_images//3))\n",
    "    for i in range(num_images):\n",
    "        img_src = samples[i]\n",
    "        img_rec = reconstructions[i]\n",
    "        # Plot original images in the top row.\n",
    "        plt.subplot(2, num_images, 1 + i)\n",
    "        plt.axis('off')\n",
    "        plt.imshow(img_src, cmap='binary')\n",
    "        # Plot reconstructed images in the bottom row.\n",
    "        plt.subplot(2, num_images, 1 + num_images + i)\n",
    "        plt.axis('off')\n",
    "        plt.imshow(img_rec, cmap='binary')\n",
    "    fig.show()"
   ]
  },
  {
   "cell_type": "code",
   "execution_count": 45,
   "metadata": {},
   "outputs": [
    {
     "name": "stderr",
     "output_type": "stream",
     "text": [
      "/usr/local/lib/python3.7/site-packages/ipykernel_launcher.py:19: UserWarning: Matplotlib is currently using module://ipykernel.pylab.backend_inline, which is a non-GUI backend, so cannot show the figure.\n"
     ]
    },
    {
     "data": {
      "image/png": "[encoded data removed]",
      "text/plain": [
       "<Figure size 720x216 with 20 Axes>"
      ]
     },
     "metadata": {
      "needs_background": "light"
     },
     "output_type": "display_data"
    },
    {
     "data": {
      "image/png": "[encoded data removed]",
      "text/plain": [
       "<Figure size 720x216 with 20 Axes>"
      ]
     },
     "metadata": {
      "needs_background": "light"
     },
     "output_type": "display_data"
    }
   ],
   "source": [
    "show_reconstructions(autoencoder, X_valid)\n",
    "show_reconstructions(autoencoder, X_test)"
   ]
  },
  {
   "cell_type": "markdown",
   "metadata": {},
   "source": [
    " Rows 1 and 2 are original and reconstructed images form the validation data. Rows 3 and 4 are original and reconstructed images form the test (unseen) data, that's why they look a bit more blurry."
   ]
  },
  {
   "cell_type": "markdown",
   "metadata": {},
   "source": [
    "### 5. Save the model"
   ]
  },
  {
   "cell_type": "code",
   "execution_count": 548,
   "metadata": {},
   "outputs": [],
   "source": [
    "autoencoder.save('fashion_mnist-autoencoder.h5')\n",
    "encoder.save('fashion_mnist-encoder.h5')\n",
    "decoder.save('fashion_mnist-decoder.h5')"
   ]
  },
  {
   "cell_type": "markdown",
   "metadata": {},
   "source": [
    "## 3.3 Visualizing the latent space of Fashion-MNIST dataset <a id=\"33\">\n",
    "    \n",
    "There are many ways to visualize the results of your model in Python, and for 2D visualization specifically.\n",
    "A good strategy is to project the high-dimensional data to a lower-dimensionality space, for which we can use our encoder model to create a latent representation of each image, then use t-SNE for mapping the latent data to a 2D plane. \n",
    "    \n",
    "t-SNE is an algorithm which usually performs very good and creates accurate 2D projections where the original data distribution is preserved as much as possible."
   ]
  },
  {
   "cell_type": "markdown",
   "metadata": {},
   "source": [
    "Since we have labels in this dataset, we can use them as color cues. \n",
    "\n",
    "In this particular example, we only show the latent space of validation dataset for time efficiency."
   ]
  },
  {
   "cell_type": "code",
   "execution_count": 46,
   "metadata": {},
   "outputs": [
    {
     "data": {
      "image/png": "[encoded data removed]",
      "text/plain": [
       "<Figure size 432x288 with 1 Axes>"
      ]
     },
     "metadata": {
      "needs_background": "light"
     },
     "output_type": "display_data"
    }
   ],
   "source": [
    "#### It will take a min\n",
    "\n",
    "from sklearn.manifold import TSNE\n",
    "\n",
    "recs = encoder.predict(X_valid)\n",
    "tsne = TSNE() # project to 2 dims by default\n",
    "\n",
    "# All `fit()` methods in scikit-learn expects 2D arrays, so flatten reconstructed data.\n",
    "s = recs.shape # (num_samples, width, height)\n",
    "new_shape = (s[0], np.prod(s[1:])) # (num_samples, width * height)\n",
    "flat = recs.reshape(new_shape)\n",
    "comp = tsne.fit_transform(flat)\n",
    "# Normalize data bounds so that they fit in a [0,1] square plot.\n",
    "comp = (comp - comp.min()) / (comp.max() - comp.min())\n",
    "\n",
    "plt.scatter(comp[:, 0], comp[:, 1], c=y_valid)\n",
    "plt.axis('off')\n",
    "plt.show()"
   ]
  },
  {
   "cell_type": "markdown",
   "metadata": {},
   "source": [
    "Again, since we have labels in this dataset, we can use them as color cues."
   ]
  },
  {
   "cell_type": "code",
   "execution_count": 47,
   "metadata": {},
   "outputs": [
    {
     "data": {
      "image/png": "[encoded data removed]",
      "text/plain": [
       "<Figure size 432x288 with 1 Axes>"
      ]
     },
     "metadata": {
      "needs_background": "light"
     },
     "output_type": "display_data"
    }
   ],
   "source": [
    "def centroid(arr):\n",
    "    N, dims = arr.shape\n",
    "    return np.array([np.sum(arr[:, i])/N for i in range(dims)])\n",
    "\n",
    "plt.scatter(comp[:, 0], comp[:, 1], c=y_valid)\n",
    "for label in list(set(y_valid)):\n",
    "    # Gather all samples with current label.\n",
    "    indices = np.where(y_valid == label)\n",
    "    samples_orig = np.take(X_valid, indices[0], axis=0)\n",
    "    samples_comp = np.take(comp, indices[0], axis=0)\n",
    "    # Compute centroid of projected samples.\n",
    "    center = centroid(samples_comp)\n",
    "    # Display a representative image (at random) near each centroid.\n",
    "    # NB: `np.random.choice()` always returns a list, even if we request only one result.\n",
    "    sample = randselect(samples_orig)[0]\n",
    "    imgbox = mpl.offsetbox.OffsetImage(sample, cmap='binary')\n",
    "    imgpic = mpl.offsetbox.AnnotationBbox(imgbox, center, frameon=False)\n",
    "    plt.gca().add_artist(imgpic)\n",
    "\n",
    "plt.axis('off')\n",
    "plt.show()"
   ]
  },
  {
   "cell_type": "markdown",
   "metadata": {},
   "source": [
    "<a href=\"#outline\">Back to top!</a></li>"
   ]
  },
  {
   "cell_type": "markdown",
   "metadata": {},
   "source": [
    "# Part 4: Advanced topics (if time permits) <a id=\"4\">"
   ]
  },
  {
   "cell_type": "markdown",
   "metadata": {},
   "source": [
    "<div class=\"alert alert-block alert-success\">\n",
    "<h2><img src=\"images/goal.png\" width=20, align=\"left\">&nbsp;Learning objectives of part 4 (optional)</h2>\n",
    "    <br>Learn to:\n",
    "    <ul>\n",
    "        <li>have some concepts of how DL is applied in HCI field\n",
    "        <li>enable faster training\n",
    "        <li>NO ASSIGNMENTS FOR THIS PART!\n",
    "    </ul>\n",
    "</div>"
   ]
  },
  {
   "cell_type": "markdown",
   "metadata": {},
   "source": [
    "## 4.1 Examples of DL in HCI <a id=\"41\">"
   ]
  },
  {
   "cell_type": "markdown",
   "metadata": {},
   "source": [
    "### 1. CNN example: \n",
    "### Sensing Fine-Grained Hand Activity with Smartwatches, Laput et al., CHI '19 (CMU)"
   ]
  },
  {
   "cell_type": "code",
   "execution_count": 48,
   "metadata": {},
   "outputs": [
    {
     "name": "stderr",
     "output_type": "stream",
     "text": [
      "/usr/local/lib/python3.7/site-packages/IPython/core/display.py:717: UserWarning: Consider using IPython.display.IFrame instead\n",
      "  warnings.warn(\"Consider using IPython.display.IFrame instead\")\n"
     ]
    },
    {
     "data": {
      "text/html": [
       "<iframe width=\"560\" height=\"315\" src=\"https://www.youtube.com/embed/a-ImMjOrbbI\" frameborder=\"0\" allow=\"accelerometer; autoplay; clipboard-write; encrypted-media; gyroscope; picture-in-picture\" allowfullscreen></iframe>"
      ],
      "text/plain": [
       "<IPython.core.display.HTML object>"
      ]
     },
     "execution_count": 48,
     "metadata": {},
     "output_type": "execute_result"
    }
   ],
   "source": [
    "HTML('<iframe width=\"560\" height=\"315\" src=\"https://www.youtube.com/embed/a-ImMjOrbbI\" frameborder=\"0\" allow=\"accelerometer; autoplay; clipboard-write; encrypted-media; gyroscope; picture-in-picture\" allowfullscreen></iframe>')"
   ]
  },
  {
   "cell_type": "markdown",
   "metadata": {},
   "source": [
    "<img src=\"images/fine-grain1.png\" width =700>\n",
    "\n",
    "--- \n",
    "<img src=\"images/fine-grain2.png\" width = 400>\n",
    "\n",
    "---\n",
    "<img src=\"images/fine-grain3.png\">"
   ]
  },
  {
   "cell_type": "markdown",
   "metadata": {},
   "source": [
    "### 2. RNN (LSTM) example: \n",
    "### Lost in Style: Gaze-driven Adaptive Aid for VR Navigation, Alghofaili et al., CHI '19"
   ]
  },
  {
   "cell_type": "code",
   "execution_count": 553,
   "metadata": {},
   "outputs": [
    {
     "data": {
      "text/html": [
       "<iframe width=\"560\" height=\"315\" src=\"https://www.youtube.com/embed/VJeFnA3IXOg\" frameborder=\"0\" allow=\"accelerometer; autoplay; clipboard-write; encrypted-media; gyroscope; picture-in-picture\" allowfullscreen></iframe>"
      ],
      "text/plain": [
       "<IPython.core.display.HTML object>"
      ]
     },
     "execution_count": 553,
     "metadata": {},
     "output_type": "execute_result"
    }
   ],
   "source": [
    "HTML('<iframe width=\"560\" height=\"315\" src=\"https://www.youtube.com/embed/VJeFnA3IXOg\" frameborder=\"0\" allow=\"accelerometer; autoplay; clipboard-write; encrypted-media; gyroscope; picture-in-picture\" allowfullscreen></iframe>')"
   ]
  },
  {
   "cell_type": "markdown",
   "metadata": {},
   "source": [
    "---\n",
    "<img src=\"images/lstm-example.png\" width=450>"
   ]
  },
  {
   "cell_type": "markdown",
   "metadata": {},
   "source": [
    "### 3. Autoencoder example:\n",
    "### Wireframe-based UI Design Search through Image Autoencoder, Chen et al., ACM Transactions on Software Engineering and Methodology 2020"
   ]
  },
  {
   "cell_type": "markdown",
   "metadata": {},
   "source": [
    "<img src=\"images/wireframe1.png\" width=700>\n",
    "\n",
    "---\n",
    "<img src=\"images/wireframe2.png\" width=700>\n",
    "\n",
    "---\n",
    "<img src=\"images/wireframe3.png\" width=700>\n",
    "\n",
    "---\n",
    "<img src=\"images/wireframe4.png\" width=700>"
   ]
  },
  {
   "cell_type": "markdown",
   "metadata": {},
   "source": [
    "## 4.2 Learn faster from previous experiences: Transfer Learning<a id=\"42\">"
   ]
  },
  {
   "cell_type": "markdown",
   "metadata": {},
   "source": [
    "### Basic concept:\n",
    "\n",
    "While Deep Learning has great success in various fields, one limitation is long training time for each task.\n",
    "\n",
    "**Transfer learning** is a machine learning technique where a model trained on one task is re-purposed on a second related task.\n",
    "\n",
    "<img src=\"images/transfer1.png\" width=700>\n",
    "\n",
    "### Steps of doing transfer learning:\n",
    "1. Remove the fully connected nodes at the end of the network (i.e., where the actual class label predictions are made).\n",
    "2. Replace the fully connected nodes with freshly initialized ones.\n",
    "3. Freeze earlier CONV layers earlier in the network (ensuring that any previous robust features learned by the CNN are not destroyed).\n",
    "\n",
    "<img src=\"images/transfer2.png\" width=700>\n",
    "\n",
    "4. Start training, but only train the FC layer heads.\n",
    "5. Optionally unfreeze some/all of the CONV layers in the network and perform a second pass of training.\n",
    "\n",
    "<img src=\"images/transfer3.png\" width=700>"
   ]
  },
  {
   "cell_type": "markdown",
   "metadata": {},
   "source": [
    "### Limitations of transfer learning:\n",
    "\n",
    "1. Assuming the previous task and the new task share highly similar low-level features.\n",
    "2. Assuming transfering from current task and the new task is easy.\n",
    "3. The knowledge is solely based on **one** previous task so it's hard to generalize to multi-task learning.\n",
    "\n",
    "<img src=\"images/dlte.png\" width=700>"
   ]
  },
  {
   "cell_type": "markdown",
   "metadata": {},
   "source": [
    "## 4.3 Learning to learn fast: Meta-Learning<a id=\"43\">"
   ]
  },
  {
   "cell_type": "markdown",
   "metadata": {},
   "source": [
    "### Basic concept:\n",
    "\n",
    "People who know how to ride a bike are likely to discover the way to ride a motorcycle fast with little or even no demonstration. Is it possible to design a machine learning model with similar properties — learning new concepts and skills fast with a few training examples? That’s essentially what meta-learning aims to solve.\n",
    "\n",
    "We expect a good meta-learning model capable of well adapting or generalizing to new tasks and new environments that have never been encountered during training time. The adaptation process, essentially a mini learning session, happens during test but with a limited exposure to the new task configurations. Eventually, the adapted model can complete new tasks. This is why meta-learning is also known as learning to learn.\n",
    "\n",
    "<img src=\"images/meta0.png\">"
   ]
  },
  {
   "cell_type": "markdown",
   "metadata": {},
   "source": [
    "### 1. LSTM meta-learner\n",
    "\n",
    "<img src=\"images/meta1.png\" width = 600>\n",
    "\n",
    "Paper: [Optimization as a Model for Few-Shot Learning, ICLR, 2017](https://openreview.net/pdf?id=rJY0-Kcll)"
   ]
  },
  {
   "cell_type": "markdown",
   "metadata": {},
   "source": [
    "---\n",
    "### 2. Memory-augmented Neural Network\n",
    "\n",
    "<img src=\"images/meta2.png\" width = 400>\n",
    "\n",
    "Paper: [Meta-Learning with Memory-Augmented Neural Networks, ICML, 2016](http://web.stanford.edu/class/psych209/Readings/Santoro16MetaLearningWithMemAugNNs.pdf)"
   ]
  },
  {
   "cell_type": "markdown",
   "metadata": {},
   "source": [
    "---\n",
    "### 3. Model-agnostic meta learning\n",
    "\n",
    "<img src=\"images/meta3.png\" width=400>\n",
    "\n",
    "Paper: [Model-Agnostic Meta-Learning for Fast Adaptation of Deep Networks, ICML, 2017](https://arxiv.org/pdf/1703.03400.pdf)"
   ]
  },
  {
   "cell_type": "markdown",
   "metadata": {},
   "source": [
    "<a href=\"#outline\">Back to top!</a></li>"
   ]
  },
  {
   "cell_type": "markdown",
   "metadata": {},
   "source": [
    "# Summary<a id=\"summary\">"
   ]
  },
  {
   "cell_type": "markdown",
   "metadata": {},
   "source": [
    "<div class=\"alert alert-block alert-success\">\n",
    "<h2><img src=\"images/goal.png\" width=20, align=\"left\">&nbsp;Learning objectives of this lecture</h2>\n",
    "    <ul>\n",
    "    <li>Part 0 Sensing flow:\n",
    "    <ul>\n",
    "        <li>know transfer function and filters (exercise 1)\n",
    "    </ul>\n",
    "    <li>Part 1 CNN and fully connected layers:\n",
    "    <ul>\n",
    "        <li>build a model using CNN & fully connected layers (exercise 2)\n",
    "    </ul>\n",
    "    <li>Part 2 RNN and LSTM:\n",
    "    <ul>\n",
    "        <li>build a model using LSTM (exercise 3)\n",
    "    </ul>\n",
    "    <li>Part 3 Autoencoder:\n",
    "    <ul>\n",
    "        <li>apply autoencoder for various purposes (exercise 4, 5) \n",
    "    </ul>\n",
    "    <li>Part 4 Advanced topics:\n",
    "    <ul>\n",
    "        <li>have basic idea about transfer learning and meta-learning (optional advanced exercise)\n",
    "    </ul>\n",
    "</div>\n",
    "\n",
    "<a href=\"#outline\">Back to top!</a></li>"
   ]
  },
  {
   "cell_type": "code",
   "execution_count": null,
   "metadata": {},
   "outputs": [],
   "source": []
  }
 ],
 "metadata": {
  "kernelspec": {
   "display_name": "Python 3",
   "language": "python",
   "name": "python3"
  },
  "language_info": {
   "codemirror_mode": {
    "name": "ipython",
    "version": 3
   },
   "file_extension": ".py",
   "mimetype": "text/x-python",
   "name": "python",
   "nbconvert_exporter": "python",
   "pygments_lexer": "ipython3",
   "version": "3.7.7"
  }
 },
 "nbformat": 4,
 "nbformat_minor": 4
}
